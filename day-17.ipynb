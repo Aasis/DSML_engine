{
 "cells": [
  {
   "cell_type": "markdown",
   "id": "660ec337-157c-4924-8381-5fc9ae93c3d9",
   "metadata": {},
   "source": [
    "# *Time module* "
   ]
  },
  {
   "cell_type": "markdown",
   "id": "d6a25164-f7b3-4d93-9ece-5907f6a90a1b",
   "metadata": {},
   "source": [
    "## is instance use garera we can identify int"
   ]
  },
  {
   "cell_type": "code",
   "execution_count": 1,
   "id": "c549de86-baa3-4544-a2c1-54557997cda5",
   "metadata": {},
   "outputs": [],
   "source": [
    "import time"
   ]
  },
  {
   "cell_type": "code",
   "execution_count": 6,
   "id": "dadaf805-c5ad-4b04-86c6-6b2711100077",
   "metadata": {},
   "outputs": [
    {
     "data": {
      "text/plain": [
       "1752544038.4605598"
      ]
     },
     "execution_count": 6,
     "metadata": {},
     "output_type": "execute_result"
    }
   ],
   "source": [
    "time.time() # get the current time in seconds "
   ]
  },
  {
   "cell_type": "code",
   "execution_count": 7,
   "id": "ea9e8432-68f9-4924-ac21-06f23e300608",
   "metadata": {},
   "outputs": [
    {
     "data": {
      "text/plain": [
       "'Tue Jul 15 07:32:48 2025'"
      ]
     },
     "execution_count": 7,
     "metadata": {},
     "output_type": "execute_result"
    }
   ],
   "source": [
    "time.ctime()"
   ]
  },
  {
   "cell_type": "code",
   "execution_count": 9,
   "id": "1fb7e99a-2a8f-4210-bdc9-cf0618f84f04",
   "metadata": {},
   "outputs": [],
   "source": [
    "# date and time lai numeric instance ma kasari lagne if kei operations ayo vane so we use time.time gives"
   ]
  },
  {
   "cell_type": "code",
   "execution_count": 14,
   "id": "c00fe12b-436d-4a5d-be4a-4f073cf26e71",
   "metadata": {},
   "outputs": [
    {
     "name": "stdout",
     "output_type": "stream",
     "text": [
      "loading...\n",
      "complete...\n"
     ]
    }
   ],
   "source": [
    "#sleep for 2 sec\n",
    "print(\"loading...\")\n",
    "time.sleep(5)\n",
    "print(\"complete...\")"
   ]
  },
  {
   "cell_type": "code",
   "execution_count": 15,
   "id": "79e02a78-2c78-492c-a4b1-aeab7f2ac01f",
   "metadata": {},
   "outputs": [
    {
     "data": {
      "text/plain": [
       "time.struct_time(tm_year=2025, tm_mon=7, tm_mday=15, tm_hour=1, tm_min=52, tm_sec=23, tm_wday=1, tm_yday=196, tm_isdst=0)"
      ]
     },
     "execution_count": 15,
     "metadata": {},
     "output_type": "execute_result"
    }
   ],
   "source": [
    "# time is weird \n",
    "time.gmtime()"
   ]
  },
  {
   "cell_type": "code",
   "execution_count": 16,
   "id": "ee0fba21-d934-48cb-8ed0-307b5e5d8d84",
   "metadata": {},
   "outputs": [
    {
     "data": {
      "text/plain": [
       "2.46875"
      ]
     },
     "execution_count": 16,
     "metadata": {},
     "output_type": "execute_result"
    }
   ],
   "source": [
    "time.process_time()"
   ]
  },
  {
   "cell_type": "code",
   "execution_count": 17,
   "id": "486f471b-4d7d-46b2-9ded-3a04eeaafdda",
   "metadata": {},
   "outputs": [
    {
     "data": {
      "text/plain": [
       "2531250000"
      ]
     },
     "execution_count": 17,
     "metadata": {},
     "output_type": "execute_result"
    }
   ],
   "source": [
    "time.process_time_ns()"
   ]
  },
  {
   "cell_type": "code",
   "execution_count": 31,
   "id": "7b242059-faf3-437d-badf-4f111ea9db27",
   "metadata": {},
   "outputs": [
    {
     "data": {
      "text/plain": [
       "'07 Hours 46 Minutes 28 Second '"
      ]
     },
     "execution_count": 31,
     "metadata": {},
     "output_type": "execute_result"
    }
   ],
   "source": [
    "time.strftime(\"%H Hours %M Minutes %S Second \")\n"
   ]
  },
  {
   "cell_type": "code",
   "execution_count": 33,
   "id": "9361167f-78c0-4abb-a5d8-5d68ea49b0cc",
   "metadata": {},
   "outputs": [
    {
     "name": "stdout",
     "output_type": "stream",
     "text": [
      "\n",
      "YOOhooohoo\n",
      "YOOhooohooYOOhooohoo\n",
      "YOOhooohooYOOhooohooYOOhooohoo\n",
      "YOOhooohooYOOhooohooYOOhooohooYOOhooohoo\n",
      "YOOhooohooYOOhooohooYOOhooohooYOOhooohooYOOhooohoo\n",
      "YOOhooohooYOOhooohooYOOhooohooYOOhooohooYOOhooohooYOOhooohoo\n",
      "YOOhooohooYOOhooohooYOOhooohooYOOhooohooYOOhooohooYOOhooohooYOOhooohoo\n",
      "YOOhooohooYOOhooohooYOOhooohooYOOhooohooYOOhooohooYOOhooohooYOOhooohooYOOhooohoo\n",
      "YOOhooohooYOOhooohooYOOhooohooYOOhooohooYOOhooohooYOOhooohooYOOhooohooYOOhooohooYOOhooohoo\n",
      "Total execution time is 10.006145477294922\n"
     ]
    }
   ],
   "source": [
    "start = time.time()\n",
    "for i in range(10):\n",
    "    print(\"YOOhooohoo\"*i)\n",
    "    time.sleep(1)\n",
    "stop = time.time()\n",
    "print(\"Total execution time is\",stop - start)"
   ]
  },
  {
   "cell_type": "markdown",
   "id": "4c6d5720-d86b-4409-88c6-0a352c6c86a7",
   "metadata": {},
   "source": [
    "# Mathmodule"
   ]
  },
  {
   "cell_type": "code",
   "execution_count": 36,
   "id": "40b1f836-23f7-483e-b15b-187bac13c2ae",
   "metadata": {},
   "outputs": [],
   "source": [
    "#from math import sqrt"
   ]
  },
  {
   "cell_type": "code",
   "execution_count": 37,
   "id": "9f450fc0-3485-4e91-91fd-dd4c812d4c55",
   "metadata": {},
   "outputs": [
    {
     "data": {
      "text/plain": [
       "['__doc__',\n",
       " '__loader__',\n",
       " '__name__',\n",
       " '__package__',\n",
       " '__spec__',\n",
       " 'acos',\n",
       " 'acosh',\n",
       " 'asin',\n",
       " 'asinh',\n",
       " 'atan',\n",
       " 'atan2',\n",
       " 'atanh',\n",
       " 'cbrt',\n",
       " 'ceil',\n",
       " 'comb',\n",
       " 'copysign',\n",
       " 'cos',\n",
       " 'cosh',\n",
       " 'degrees',\n",
       " 'dist',\n",
       " 'e',\n",
       " 'erf',\n",
       " 'erfc',\n",
       " 'exp',\n",
       " 'exp2',\n",
       " 'expm1',\n",
       " 'fabs',\n",
       " 'factorial',\n",
       " 'floor',\n",
       " 'fma',\n",
       " 'fmod',\n",
       " 'frexp',\n",
       " 'fsum',\n",
       " 'gamma',\n",
       " 'gcd',\n",
       " 'hypot',\n",
       " 'inf',\n",
       " 'isclose',\n",
       " 'isfinite',\n",
       " 'isinf',\n",
       " 'isnan',\n",
       " 'isqrt',\n",
       " 'lcm',\n",
       " 'ldexp',\n",
       " 'lgamma',\n",
       " 'log',\n",
       " 'log10',\n",
       " 'log1p',\n",
       " 'log2',\n",
       " 'modf',\n",
       " 'nan',\n",
       " 'nextafter',\n",
       " 'perm',\n",
       " 'pi',\n",
       " 'pow',\n",
       " 'prod',\n",
       " 'radians',\n",
       " 'remainder',\n",
       " 'sin',\n",
       " 'sinh',\n",
       " 'sqrt',\n",
       " 'sumprod',\n",
       " 'tan',\n",
       " 'tanh',\n",
       " 'tau',\n",
       " 'trunc',\n",
       " 'ulp']"
      ]
     },
     "execution_count": 37,
     "metadata": {},
     "output_type": "execute_result"
    }
   ],
   "source": [
    "#import math\n",
    "dir(math) # to get all the functions that are present in math module "
   ]
  },
  {
   "cell_type": "code",
   "execution_count": 40,
   "id": "d372bc7a-35a3-49af-a09d-309d2191fbb3",
   "metadata": {},
   "outputs": [],
   "source": [
    "import math as m"
   ]
  },
  {
   "cell_type": "code",
   "execution_count": 41,
   "id": "aa7e2471-5005-4f72-bfae-a9505d2a5962",
   "metadata": {},
   "outputs": [
    {
     "data": {
      "text/plain": [
       "3"
      ]
     },
     "execution_count": 41,
     "metadata": {},
     "output_type": "execute_result"
    }
   ],
   "source": [
    "m.ceil(2.001)\n"
   ]
  },
  {
   "cell_type": "code",
   "execution_count": 42,
   "id": "2fc5819e-0c74-45af-ab2f-adf2d5a3db39",
   "metadata": {},
   "outputs": [
    {
     "data": {
      "text/plain": [
       "2"
      ]
     },
     "execution_count": 42,
     "metadata": {},
     "output_type": "execute_result"
    }
   ],
   "source": [
    "m.trunc(2.999)"
   ]
  },
  {
   "cell_type": "code",
   "execution_count": 43,
   "id": "d6684cfa-b4fb-49c0-b8c0-3a599d462fad",
   "metadata": {},
   "outputs": [
    {
     "data": {
      "text/plain": [
       "2"
      ]
     },
     "execution_count": 43,
     "metadata": {},
     "output_type": "execute_result"
    }
   ],
   "source": [
    "m.floor(2.1)"
   ]
  },
  {
   "cell_type": "code",
   "execution_count": 44,
   "id": "a1332730-413f-4e7d-8674-af8a0c00b5cb",
   "metadata": {},
   "outputs": [
    {
     "data": {
      "text/plain": [
       "4.0"
      ]
     },
     "execution_count": 44,
     "metadata": {},
     "output_type": "execute_result"
    }
   ],
   "source": [
    "math.fabs(-4)"
   ]
  },
  {
   "cell_type": "code",
   "execution_count": 46,
   "id": "2edefd8e-aa9b-4ff4-95cf-f63ff8c8fdbc",
   "metadata": {},
   "outputs": [
    {
     "data": {
      "text/plain": [
       "0.5235987755982988"
      ]
     },
     "execution_count": 46,
     "metadata": {},
     "output_type": "execute_result"
    }
   ],
   "source": [
    "d_to_r = m.radians(30)\n",
    "d_to_r"
   ]
  },
  {
   "cell_type": "code",
   "execution_count": 47,
   "id": "324d2f79-6e5f-45c4-861d-68735a071c27",
   "metadata": {},
   "outputs": [
    {
     "data": {
      "text/plain": [
       "0.49999999999999994"
      ]
     },
     "execution_count": 47,
     "metadata": {},
     "output_type": "execute_result"
    }
   ],
   "source": [
    "m.sin(d_to_r)"
   ]
  },
  {
   "cell_type": "code",
   "execution_count": 49,
   "id": "c3118d00-9f0e-42d2-b139-99de7feb0dd4",
   "metadata": {},
   "outputs": [
    {
     "data": {
      "text/plain": [
       "1.0"
      ]
     },
     "execution_count": 49,
     "metadata": {},
     "output_type": "execute_result"
    }
   ],
   "source": [
    "m.exp(0)"
   ]
  },
  {
   "cell_type": "code",
   "execution_count": 54,
   "id": "e5946231-6fc8-4521-b34e-0edf0044bc04",
   "metadata": {},
   "outputs": [
    {
     "name": "stdout",
     "output_type": "stream",
     "text": [
      "1.0\n",
      "2.718281828459045\n",
      "7.38905609893065\n",
      "20.085536923187668\n",
      "54.598150033144236\n",
      "148.4131591025766\n",
      "403.4287934927351\n",
      "1096.6331584284585\n",
      "2980.9579870417283\n",
      "8103.083927575384\n"
     ]
    }
   ],
   "source": [
    "for i in range(10):\n",
    "    print(m.exp(i))\n",
    "    "
   ]
  },
  {
   "cell_type": "code",
   "execution_count": 60,
   "id": "1398f3fc-6153-4693-adf0-e086d9949bbf",
   "metadata": {},
   "outputs": [
    {
     "name": "stdout",
     "output_type": "stream",
     "text": [
      "0.0\n",
      "0.6931471805599453\n",
      "1.0986122886681098\n",
      "1.3862943611198906\n",
      "1.6094379124341003\n",
      "1.791759469228055\n",
      "1.9459101490553132\n",
      "2.0794415416798357\n",
      "2.1972245773362196\n",
      "2.302585092994046\n",
      "2.3978952727983707\n",
      "2.4849066497880004\n",
      "2.5649493574615367\n",
      "2.6390573296152584\n",
      "2.70805020110221\n",
      "2.772588722239781\n",
      "2.833213344056216\n",
      "2.8903717578961645\n",
      "2.9444389791664403\n",
      "2.995732273553991\n",
      "3.044522437723423\n",
      "3.091042453358316\n",
      "3.1354942159291497\n",
      "3.1780538303479458\n",
      "3.2188758248682006\n",
      "3.258096538021482\n",
      "3.295836866004329\n",
      "3.332204510175204\n",
      "3.367295829986474\n",
      "3.4011973816621555\n",
      "3.4339872044851463\n",
      "3.4657359027997265\n",
      "3.4965075614664802\n",
      "3.5263605246161616\n",
      "3.5553480614894135\n",
      "3.58351893845611\n",
      "3.6109179126442243\n",
      "3.6375861597263857\n",
      "3.6635616461296463\n",
      "3.6888794541139363\n",
      "3.713572066704308\n",
      "3.7376696182833684\n",
      "3.7612001156935624\n",
      "3.784189633918261\n",
      "3.8066624897703196\n",
      "3.828641396489095\n",
      "3.8501476017100584\n",
      "3.871201010907891\n",
      "3.8918202981106265\n",
      "3.912023005428146\n",
      "3.9318256327243257\n",
      "3.9512437185814275\n",
      "3.970291913552122\n",
      "3.9889840465642745\n",
      "4.007333185232471\n",
      "4.02535169073515\n",
      "4.04305126783455\n",
      "4.060443010546419\n",
      "4.07753744390572\n",
      "4.0943445622221\n",
      "4.110873864173311\n",
      "4.127134385045092\n",
      "4.143134726391533\n",
      "4.1588830833596715\n",
      "4.174387269895637\n",
      "4.189654742026425\n",
      "4.204692619390966\n",
      "4.219507705176107\n",
      "4.23410650459726\n",
      "4.248495242049359\n",
      "4.2626798770413155\n",
      "4.276666119016055\n",
      "4.290459441148391\n",
      "4.30406509320417\n",
      "4.31748811353631\n",
      "4.330733340286331\n",
      "4.343805421853684\n",
      "4.356708826689592\n",
      "4.3694478524670215\n",
      "4.382026634673881\n",
      "4.394449154672439\n",
      "4.406719247264253\n",
      "4.418840607796598\n",
      "4.430816798843313\n",
      "4.442651256490317\n",
      "4.454347296253507\n",
      "4.465908118654584\n",
      "4.477336814478207\n",
      "4.48863636973214\n",
      "4.499809670330265\n",
      "4.51085950651685\n",
      "4.5217885770490405\n",
      "4.532599493153256\n",
      "4.543294782270004\n",
      "4.553876891600541\n",
      "4.564348191467836\n",
      "4.574710978503383\n",
      "4.584967478670572\n",
      "4.59511985013459\n"
     ]
    }
   ],
   "source": [
    "for i in range(1,100):\n",
    "    print(m.log(i))\n",
    "    "
   ]
  },
  {
   "cell_type": "markdown",
   "id": "f20ff4bb-5544-4a23-afda-54fdc5337adc",
   "metadata": {},
   "source": [
    "# log le data lai compress garne raixa and preseve data "
   ]
  },
  {
   "cell_type": "code",
   "execution_count": 64,
   "id": "78df31f9-88fa-42be-bff7-250f358d0ffb",
   "metadata": {},
   "outputs": [
    {
     "data": {
      "text/plain": [
       "0"
      ]
     },
     "execution_count": 64,
     "metadata": {},
     "output_type": "execute_result"
    }
   ],
   "source": [
    "m.comb(2,3)"
   ]
  },
  {
   "cell_type": "code",
   "execution_count": 65,
   "id": "7b936e26-4f62-4872-b185-37d3a69efb74",
   "metadata": {},
   "outputs": [
    {
     "data": {
      "text/plain": [
       "10"
      ]
     },
     "execution_count": 65,
     "metadata": {},
     "output_type": "execute_result"
    }
   ],
   "source": [
    "m.comb(5,3)"
   ]
  },
  {
   "cell_type": "code",
   "execution_count": 66,
   "id": "9e4118e9-38c3-4d15-85f4-ddfd1da1ab51",
   "metadata": {},
   "outputs": [
    {
     "data": {
      "text/plain": [
       "0"
      ]
     },
     "execution_count": 66,
     "metadata": {},
     "output_type": "execute_result"
    }
   ],
   "source": [
    "m.perm(1,4)"
   ]
  },
  {
   "cell_type": "code",
   "execution_count": 67,
   "id": "fe2b3cec-90c7-4a7b-bf1e-d85afba0fbfa",
   "metadata": {},
   "outputs": [
    {
     "data": {
      "text/plain": [
       "60"
      ]
     },
     "execution_count": 67,
     "metadata": {},
     "output_type": "execute_result"
    }
   ],
   "source": [
    "m.perm(5,3)"
   ]
  },
  {
   "cell_type": "code",
   "execution_count": 68,
   "id": "0a6f9d3d-fc77-4fd7-af8e-08c3423c3238",
   "metadata": {},
   "outputs": [
    {
     "data": {
      "text/plain": [
       "1.0"
      ]
     },
     "execution_count": 68,
     "metadata": {},
     "output_type": "execute_result"
    }
   ],
   "source": [
    "m.erf(10)"
   ]
  },
  {
   "cell_type": "markdown",
   "id": "9d49d000-926d-42c8-906d-f7975774fa68",
   "metadata": {},
   "source": [
    "# OS MODULE "
   ]
  },
  {
   "cell_type": "code",
   "execution_count": 69,
   "id": "1cb43f47-90a6-4999-b20e-17285c78c61f",
   "metadata": {},
   "outputs": [],
   "source": [
    "import os as o"
   ]
  },
  {
   "cell_type": "code",
   "execution_count": 70,
   "id": "d489b202-c13d-440b-b2b8-5826b9a87ea8",
   "metadata": {},
   "outputs": [
    {
     "data": {
      "text/plain": [
       "'X:\\\\DSML_engine'"
      ]
     },
     "execution_count": 70,
     "metadata": {},
     "output_type": "execute_result"
    }
   ],
   "source": [
    "o.getcwd()"
   ]
  },
  {
   "cell_type": "code",
   "execution_count": 71,
   "id": "ac67e2b2-163e-4fe3-be1d-3e3c9ad42e16",
   "metadata": {},
   "outputs": [],
   "source": [
    "o.mkdir(\"Os module\")"
   ]
  },
  {
   "cell_type": "code",
   "execution_count": 72,
   "id": "821a7738-28d0-49d8-918f-38d42469d4bc",
   "metadata": {},
   "outputs": [],
   "source": [
    "o.chdir(\"Os module/\")"
   ]
  },
  {
   "cell_type": "code",
   "execution_count": 73,
   "id": "531ab4d4-1e95-4ca6-9cdf-50f559e7f8df",
   "metadata": {},
   "outputs": [
    {
     "data": {
      "text/plain": [
       "'X:\\\\DSML_engine\\\\Os module'"
      ]
     },
     "execution_count": 73,
     "metadata": {},
     "output_type": "execute_result"
    }
   ],
   "source": [
    "o.getcwd()"
   ]
  },
  {
   "cell_type": "code",
   "execution_count": 74,
   "id": "dd2cb817-9746-4b09-9512-8b2a832115d2",
   "metadata": {},
   "outputs": [
    {
     "data": {
      "text/plain": [
       "False"
      ]
     },
     "execution_count": 74,
     "metadata": {},
     "output_type": "execute_result"
    }
   ],
   "source": [
    "o.path.exists(\"Os module\")"
   ]
  },
  {
   "cell_type": "code",
   "execution_count": 79,
   "id": "816c65a5-6811-4ca2-9449-b8582a5810f9",
   "metadata": {},
   "outputs": [],
   "source": [
    "if not o.path.exists(\"Os module\"):\n",
    "    o.mkdir(\"Mos MOdul\")"
   ]
  },
  {
   "cell_type": "code",
   "execution_count": 82,
   "id": "3725fbec-93b4-4df6-9bce-7f5001f93b67",
   "metadata": {},
   "outputs": [],
   "source": [
    "o.makedirs(\"test_folder/\",exist_ok= True)"
   ]
  },
  {
   "cell_type": "code",
   "execution_count": 83,
   "id": "ee8ae2a4-ccdd-4648-b1e8-f7be654b5b79",
   "metadata": {},
   "outputs": [
    {
     "data": {
      "text/plain": [
       "'X:\\\\DSML_engine\\\\Os module'"
      ]
     },
     "execution_count": 83,
     "metadata": {},
     "output_type": "execute_result"
    }
   ],
   "source": [
    "o.getcwd()"
   ]
  },
  {
   "cell_type": "code",
   "execution_count": 84,
   "id": "62901049-82a7-4f1e-b399-cf21964ae26d",
   "metadata": {},
   "outputs": [],
   "source": [
    "o.chdir(\"..\")"
   ]
  },
  {
   "cell_type": "code",
   "execution_count": 85,
   "id": "7fbc0d8b-7453-42b6-be57-e913fe80665d",
   "metadata": {},
   "outputs": [
    {
     "data": {
      "text/plain": [
       "'X:\\\\DSML_engine'"
      ]
     },
     "execution_count": 85,
     "metadata": {},
     "output_type": "execute_result"
    }
   ],
   "source": [
    "o.getcwd()"
   ]
  },
  {
   "cell_type": "code",
   "execution_count": 86,
   "id": "b20a5f01-97aa-43c2-b920-e3bb70b9ae84",
   "metadata": {},
   "outputs": [
    {
     "data": {
      "text/plain": [
       "['.engine',\n",
       " '.git',\n",
       " '.gitignore',\n",
       " '.ipynb_checkpoints',\n",
       " 'Assignment',\n",
       " 'Class&object.ipynb',\n",
       " 'd5.ipynb',\n",
       " 'day 3',\n",
       " 'day-17.ipynb',\n",
       " 'day6.ipynb',\n",
       " 'day7.ipynb',\n",
       " 'greetings.txt',\n",
       " 'Initial.ipynb',\n",
       " 'july-11.ipynb',\n",
       " 'lambda.ipynb',\n",
       " 'Numeric-type',\n",
       " 'Os module',\n",
       " 'README.md',\n",
       " 'String_doc_practice.ipynb',\n",
       " 'Untitled.ipynb',\n",
       " 'Untitled1.ipynb',\n",
       " 'Untitled2.ipynb',\n",
       " 'welcome.py']"
      ]
     },
     "execution_count": 86,
     "metadata": {},
     "output_type": "execute_result"
    }
   ],
   "source": [
    "o.listdir(\".\")"
   ]
  },
  {
   "cell_type": "code",
   "execution_count": 90,
   "id": "aab87562-125c-496b-ae6c-c1964f036d15",
   "metadata": {},
   "outputs": [
    {
     "ename": "OSError",
     "evalue": "[WinError 145] The directory is not empty: 'Os module/'",
     "output_type": "error",
     "traceback": [
      "\u001b[31m---------------------------------------------------------------------------\u001b[39m",
      "\u001b[31mOSError\u001b[39m                                   Traceback (most recent call last)",
      "\u001b[36mCell\u001b[39m\u001b[36m \u001b[39m\u001b[32mIn[90]\u001b[39m\u001b[32m, line 1\u001b[39m\n\u001b[32m----> \u001b[39m\u001b[32m1\u001b[39m \u001b[43mo\u001b[49m\u001b[43m.\u001b[49m\u001b[43mrmdir\u001b[49m\u001b[43m(\u001b[49m\u001b[33;43m\"\u001b[39;49m\u001b[33;43mOs module/\u001b[39;49m\u001b[33;43m\"\u001b[39;49m\u001b[43m)\u001b[49m \u001b[38;5;66;03m# its basically only remove empty directory \u001b[39;00m\n",
      "\u001b[31mOSError\u001b[39m: [WinError 145] The directory is not empty: 'Os module/'"
     ]
    }
   ],
   "source": [
    "o.rmdir(\"Os module/\") # its basically only remove empty directory "
   ]
  },
  {
   "cell_type": "code",
   "execution_count": 93,
   "id": "3456bf0e-cdd9-461a-ae85-84a72809f997",
   "metadata": {},
   "outputs": [],
   "source": [
    "o.getenv(\"Numeric-type\")"
   ]
  },
  {
   "cell_type": "code",
   "execution_count": 94,
   "id": "1ec8bc7c-b0b0-4157-a824-c51651db03c0",
   "metadata": {},
   "outputs": [
    {
     "data": {
      "text/plain": [
       "'C:\\\\Users\\\\asisjuli\\\\OneDrive'"
      ]
     },
     "execution_count": 94,
     "metadata": {},
     "output_type": "execute_result"
    }
   ],
   "source": [
    "o.getenv(\"OneDrive\")"
   ]
  },
  {
   "cell_type": "code",
   "execution_count": 98,
   "id": "dedaac5b-8f30-4c14-9633-fd0e89ba1919",
   "metadata": {},
   "outputs": [
    {
     "data": {
      "text/plain": [
       "'X:\\\\DSML_engine\\\\.engine\\\\Scripts;C:\\\\Users\\\\asisjuli\\\\bin;C:\\\\Program Files\\\\Git\\\\mingw64\\\\bin;C:\\\\Program Files\\\\Git\\\\usr\\\\local\\\\bin;C:\\\\Program Files\\\\Git\\\\usr\\\\bin;C:\\\\Program Files\\\\Git\\\\usr\\\\bin;C:\\\\Program Files\\\\Git\\\\mingw64\\\\bin;C:\\\\Program Files\\\\Git\\\\usr\\\\bin;C:\\\\Users\\\\asisjuli\\\\bin;C:\\\\Windows\\\\system32;C:\\\\Windows;C:\\\\Windows\\\\System32\\\\Wbem;C:\\\\Windows\\\\System32\\\\WindowsPowerShell\\\\v1.0;C:\\\\Windows\\\\System32\\\\OpenSSH;C:\\\\Program Files\\\\Git\\\\cmd;C:\\\\Program Files (x86)\\\\NVIDIA Corporation\\\\PhysX\\\\Common;C:\\\\Users\\\\asisjuli\\\\AppData\\\\Local\\\\Programs\\\\Python\\\\Python313\\\\Scripts;C:\\\\Users\\\\asisjuli\\\\AppData\\\\Local\\\\Programs\\\\Python\\\\Python313;C:\\\\Users\\\\asisjuli\\\\AppData\\\\Local\\\\Microsoft\\\\WindowsApps;C:\\\\Users\\\\asisjuli\\\\AppData\\\\Local\\\\Programs\\\\Microsoft VS Code\\\\bin;C:\\\\Program Files\\\\Git\\\\usr\\\\bin\\\\vendor_perl;C:\\\\Program Files\\\\Git\\\\usr\\\\bin\\\\core_perl'"
      ]
     },
     "execution_count": 98,
     "metadata": {},
     "output_type": "execute_result"
    }
   ],
   "source": [
    "o.getenv(\"Path\")"
   ]
  },
  {
   "cell_type": "code",
   "execution_count": 102,
   "id": "121f71ac-806a-478b-ad03-e491243c03c7",
   "metadata": {},
   "outputs": [],
   "source": [
    "o.environ[\"MYPASSWORD\"] = \"secretpass\""
   ]
  },
  {
   "cell_type": "code",
   "execution_count": 101,
   "id": "71f440e1-d9a3-4bea-82ae-ba3537aa2ac0",
   "metadata": {},
   "outputs": [],
   "source": [
    "o.getenv(\"secretpass\") # jupyter notebook lai admin access deko xaina so ayena path "
   ]
  },
  {
   "cell_type": "code",
   "execution_count": 103,
   "id": "f958a169-3e16-4762-ae83-f90279aae3e5",
   "metadata": {},
   "outputs": [
    {
     "data": {
      "text/plain": [
       "environ{'ACLOCAL_PATH': 'C:\\\\Program Files\\\\Git\\\\mingw64\\\\share\\\\aclocal;C:\\\\Program Files\\\\Git\\\\usr\\\\share\\\\aclocal',\n",
       "        'ALLUSERSPROFILE': 'C:\\\\ProgramData',\n",
       "        'APPDATA': 'C:\\\\Users\\\\asisjuli\\\\AppData\\\\Roaming',\n",
       "        'COMMONPROGRAMFILES': 'C:\\\\Program Files\\\\Common Files',\n",
       "        'COMMONPROGRAMFILES(X86)': 'C:\\\\Program Files (x86)\\\\Common Files',\n",
       "        'COMMONPROGRAMW6432': 'C:\\\\Program Files\\\\Common Files',\n",
       "        'COMPUTERNAME': 'DESKTOP-B0761V9',\n",
       "        'COMSPEC': 'C:\\\\Windows\\\\system32\\\\cmd.exe',\n",
       "        'CONFIG_SITE': 'C:/Program Files/Git/etc/config.site',\n",
       "        'DISPLAY': 'needs-to-be-defined',\n",
       "        'DRIVERDATA': 'C:\\\\Windows\\\\System32\\\\Drivers\\\\DriverData',\n",
       "        'EXEPATH': 'C:\\\\Program Files\\\\Git',\n",
       "        'FPS_BROWSER_APP_PROFILE_STRING': 'Internet Explorer',\n",
       "        'FPS_BROWSER_USER_PROFILE_STRING': 'Default',\n",
       "        'HOME': 'C:\\\\Users\\\\asisjuli',\n",
       "        'HOMEDRIVE': 'C:',\n",
       "        'HOMEPATH': '\\\\Users\\\\asisjuli',\n",
       "        'HOSTNAME': 'DESKTOP-B0761V9',\n",
       "        'INFOPATH': 'C:\\\\Program Files\\\\Git\\\\mingw64\\\\local\\\\info;C:\\\\Program Files\\\\Git\\\\mingw64\\\\share\\\\info;C:\\\\Program Files\\\\Git\\\\usr\\\\local\\\\info;C:\\\\Program Files\\\\Git\\\\usr\\\\share\\\\info;C:\\\\Program Files\\\\Git\\\\usr\\\\info;C:\\\\Program Files\\\\Git\\\\share\\\\info',\n",
       "        'IPY_INTERRUPT_EVENT': '2028',\n",
       "        'JPY_INTERRUPT_EVENT': '2028',\n",
       "        'JPY_PARENT_PID': '1812',\n",
       "        'JPY_SESSION_NAME': 'X:\\\\DSML_engine\\\\Untitled3.ipynb',\n",
       "        'LC_CTYPE': 'en_US.UTF-8',\n",
       "        'LOCALAPPDATA': 'C:\\\\Users\\\\asisjuli\\\\AppData\\\\Local',\n",
       "        'LOGONSERVER': '\\\\\\\\DESKTOP-B0761V9',\n",
       "        'MANPATH': 'C:\\\\Program Files\\\\Git\\\\mingw64\\\\local\\\\man;C:\\\\Program Files\\\\Git\\\\mingw64\\\\share\\\\man;C:\\\\Program Files\\\\Git\\\\usr\\\\local\\\\man;C:\\\\Program Files\\\\Git\\\\usr\\\\share\\\\man;C:\\\\Program Files\\\\Git\\\\usr\\\\man;C:\\\\Program Files\\\\Git\\\\share\\\\man',\n",
       "        'MINGW_CHOST': 'x86_64-w64-mingw32',\n",
       "        'MINGW_PACKAGE_PREFIX': 'mingw-w64-x86_64',\n",
       "        'MINGW_PREFIX': 'C:/Program Files/Git/mingw64',\n",
       "        'MSYSTEM': 'MINGW64',\n",
       "        'MSYSTEM_CARCH': 'x86_64',\n",
       "        'MSYSTEM_CHOST': 'x86_64-w64-mingw32',\n",
       "        'MSYSTEM_PREFIX': 'C:/Program Files/Git/mingw64',\n",
       "        'NUMBER_OF_PROCESSORS': '4',\n",
       "        'ONEDRIVE': 'C:\\\\Users\\\\asisjuli\\\\OneDrive',\n",
       "        'ORIGINAL_PATH': 'C:\\\\Program Files\\\\Git\\\\mingw64\\\\bin;C:\\\\Program Files\\\\Git\\\\usr\\\\bin;C:\\\\Users\\\\asisjuli\\\\bin;C:\\\\Windows\\\\system32;C:\\\\Windows;C:\\\\Windows\\\\System32\\\\Wbem;C:\\\\Windows\\\\System32\\\\WindowsPowerShell\\\\v1.0;C:\\\\Windows\\\\System32\\\\OpenSSH;C:\\\\Program Files\\\\Git\\\\cmd;C:\\\\Program Files (x86)\\\\NVIDIA Corporation\\\\PhysX\\\\Common;C:\\\\Users\\\\asisjuli\\\\AppData\\\\Local\\\\Programs\\\\Python\\\\Python313\\\\Scripts;C:\\\\Users\\\\asisjuli\\\\AppData\\\\Local\\\\Programs\\\\Python\\\\Python313;C:\\\\Users\\\\asisjuli\\\\AppData\\\\Local\\\\Microsoft\\\\WindowsApps;C:\\\\Users\\\\asisjuli\\\\AppData\\\\Local\\\\Programs\\\\Microsoft VS Code\\\\bin',\n",
       "        'ORIGINAL_TEMP': 'C:/Users/asisjuli/AppData/Local/Temp',\n",
       "        'ORIGINAL_TMP': 'C:/Users/asisjuli/AppData/Local/Temp',\n",
       "        'OS': 'Windows_NT',\n",
       "        'PATH': 'X:\\\\DSML_engine\\\\.engine\\\\Scripts;C:\\\\Users\\\\asisjuli\\\\bin;C:\\\\Program Files\\\\Git\\\\mingw64\\\\bin;C:\\\\Program Files\\\\Git\\\\usr\\\\local\\\\bin;C:\\\\Program Files\\\\Git\\\\usr\\\\bin;C:\\\\Program Files\\\\Git\\\\usr\\\\bin;C:\\\\Program Files\\\\Git\\\\mingw64\\\\bin;C:\\\\Program Files\\\\Git\\\\usr\\\\bin;C:\\\\Users\\\\asisjuli\\\\bin;C:\\\\Windows\\\\system32;C:\\\\Windows;C:\\\\Windows\\\\System32\\\\Wbem;C:\\\\Windows\\\\System32\\\\WindowsPowerShell\\\\v1.0;C:\\\\Windows\\\\System32\\\\OpenSSH;C:\\\\Program Files\\\\Git\\\\cmd;C:\\\\Program Files (x86)\\\\NVIDIA Corporation\\\\PhysX\\\\Common;C:\\\\Users\\\\asisjuli\\\\AppData\\\\Local\\\\Programs\\\\Python\\\\Python313\\\\Scripts;C:\\\\Users\\\\asisjuli\\\\AppData\\\\Local\\\\Programs\\\\Python\\\\Python313;C:\\\\Users\\\\asisjuli\\\\AppData\\\\Local\\\\Microsoft\\\\WindowsApps;C:\\\\Users\\\\asisjuli\\\\AppData\\\\Local\\\\Programs\\\\Microsoft VS Code\\\\bin;C:\\\\Program Files\\\\Git\\\\usr\\\\bin\\\\vendor_perl;C:\\\\Program Files\\\\Git\\\\usr\\\\bin\\\\core_perl',\n",
       "        'PATHEXT': '.COM;.EXE;.BAT;.CMD;.VBS;.VBE;.JS;.JSE;.WSF;.WSH;.MSC',\n",
       "        'PKG_CONFIG_PATH': 'C:\\\\Program Files\\\\Git\\\\mingw64\\\\lib\\\\pkgconfig;C:\\\\Program Files\\\\Git\\\\mingw64\\\\share\\\\pkgconfig',\n",
       "        'PKG_CONFIG_SYSTEM_INCLUDE_PATH': 'C:/Program Files/Git/mingw64/include',\n",
       "        'PKG_CONFIG_SYSTEM_LIBRARY_PATH': 'C:/Program Files/Git/mingw64/lib',\n",
       "        'PLINK_PROTOCOL': 'ssh',\n",
       "        'PROCESSOR_ARCHITECTURE': 'AMD64',\n",
       "        'PROCESSOR_IDENTIFIER': 'Intel64 Family 6 Model 142 Stepping 9, GenuineIntel',\n",
       "        'PROCESSOR_LEVEL': '6',\n",
       "        'PROCESSOR_REVISION': '8e09',\n",
       "        'PROGRAMDATA': 'C:\\\\ProgramData',\n",
       "        'PROGRAMFILES': 'C:\\\\Program Files',\n",
       "        'PROGRAMFILES(X86)': 'C:\\\\Program Files (x86)',\n",
       "        'PROGRAMW6432': 'C:\\\\Program Files',\n",
       "        'PS1': '(.engine) \\\\[\\\\033]0;$TITLEPREFIX:$PWD\\\\007\\\\]\\\\n\\\\[\\\\033[32m\\\\]\\\\u@\\\\h \\\\[\\\\033[35m\\\\]$MSYSTEM \\\\[\\\\033[33m\\\\]\\\\w\\\\[\\\\033[36m\\\\]`__git_ps1`\\\\[\\\\033[0m\\\\]\\\\n$ ',\n",
       "        'PSMODULEPATH': 'C:\\\\Program Files\\\\WindowsPowerShell\\\\Modules;C:\\\\Windows\\\\system32\\\\WindowsPowerShell\\\\v1.0\\\\Modules',\n",
       "        'PUBLIC': 'C:\\\\Users\\\\Public',\n",
       "        'PWD': 'X:/DSML_engine',\n",
       "        'SESSIONNAME': 'Console',\n",
       "        'SHELL': 'C:\\\\Program Files\\\\Git\\\\usr\\\\bin\\\\bash.exe',\n",
       "        'SHLVL': '1',\n",
       "        'SSH_ASKPASS': 'C:/Program Files/Git/mingw64/bin/git-askpass.exe',\n",
       "        'SYSTEMDRIVE': 'C:',\n",
       "        'SYSTEMROOT': 'C:\\\\Windows',\n",
       "        'TEMP': 'C:\\\\Users\\\\asisjuli\\\\AppData\\\\Local\\\\Temp',\n",
       "        'TERM': 'xterm-color',\n",
       "        'TERM_PROGRAM': 'mintty',\n",
       "        'TERM_PROGRAM_VERSION': '3.7.7',\n",
       "        'TMP': 'C:\\\\Users\\\\asisjuli\\\\AppData\\\\Local\\\\Temp',\n",
       "        'TMPDIR': 'C:\\\\Users\\\\asisjuli\\\\AppData\\\\Local\\\\Temp',\n",
       "        'USERDOMAIN': 'DESKTOP-B0761V9',\n",
       "        'USERDOMAIN_ROAMINGPROFILE': 'DESKTOP-B0761V9',\n",
       "        'USERNAME': 'asisjuli',\n",
       "        'USERPROFILE': 'C:\\\\Users\\\\asisjuli',\n",
       "        'VIRTUAL_ENV': 'X:/DSML_engine/.engine',\n",
       "        'VIRTUAL_ENV_PROMPT': '.engine',\n",
       "        'WINDIR': 'C:\\\\Windows',\n",
       "        '_': 'X:/DSML_engine/.engine/Scripts/jupyter',\n",
       "        'PYDEVD_USE_FRAME_EVAL': 'NO',\n",
       "        'CLICOLOR': '1',\n",
       "        'FORCE_COLOR': '1',\n",
       "        'CLICOLOR_FORCE': '1',\n",
       "        'PAGER': 'cat',\n",
       "        'GIT_PAGER': 'cat',\n",
       "        'MPLBACKEND': 'module://matplotlib_inline.backend_inline',\n",
       "        'MYPASSWORD': 'secretpass'}"
      ]
     },
     "execution_count": 103,
     "metadata": {},
     "output_type": "execute_result"
    }
   ],
   "source": [
    "o.environ # return a dictionary "
   ]
  },
  {
   "cell_type": "code",
   "execution_count": null,
   "id": "b53acd9d-fb6e-48b6-9191-cf147dceb641",
   "metadata": {},
   "outputs": [],
   "source": []
  }
 ],
 "metadata": {
  "kernelspec": {
   "display_name": "Python 3 (ipykernel)",
   "language": "python",
   "name": "python3"
  },
  "language_info": {
   "codemirror_mode": {
    "name": "ipython",
    "version": 3
   },
   "file_extension": ".py",
   "mimetype": "text/x-python",
   "name": "python",
   "nbconvert_exporter": "python",
   "pygments_lexer": "ipython3",
   "version": "3.13.3"
  }
 },
 "nbformat": 4,
 "nbformat_minor": 5
}
