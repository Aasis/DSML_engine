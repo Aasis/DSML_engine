{
 "cells": [
  {
   "cell_type": "markdown",
   "metadata": {},
   "source": [
    "### Question : Check for Palindrome\n",
    "Write a Python program using a lambda function to check if a given string is a palindrome.\n",
    "\n",
    "Example:\n",
    "\n",
    "Input: `\"level\"`\n",
    "\n",
    "Output: `True`"
   ]
  },
  {
   "cell_type": "code",
   "execution_count": 15,
   "metadata": {},
   "outputs": [
    {
     "name": "stdout",
     "output_type": "stream",
     "text": [
      "CHECKING GIVEN WORD IS PALINDROME OR NOT \n"
     ]
    },
    {
     "name": "stdin",
     "output_type": "stream",
     "text": [
      "Enter a string level\n"
     ]
    },
    {
     "name": "stdout",
     "output_type": "stream",
     "text": [
      "True\n"
     ]
    }
   ],
   "source": [
    "# Your Solution Here\n",
    "print(\"CHECKING GIVEN WORD IS PALINDROME OR NOT \")\n",
    "word=input(\"Enter a string\")\n",
    "chk= lambda word : True if word == word[::-1] else False\n",
    "print(chk(word))"
   ]
  },
  {
   "cell_type": "markdown",
   "metadata": {},
   "source": [
    "### Question: \n",
    "Write a Python program to check whether a given number is an Armstrong number or not.\n",
    "\n",
    "**Definition:**\n",
    "An **Armstrong number** (also known as a **narcissistic number**) is a number that is equal to the sum of its own digits each raised to the power of the number of digits. For example:\n",
    "- 153 is an Armstrong number because \\( 1^3 + 5^3 + 3^3 = 153 \\).\n",
    "- 9474 is an Armstrong number because \\( 9^4 + 4^4 + 7^4 + 4^4 = 9474 \\).\n",
    "\n",
    "**Input:**  \n",
    "An integer (e.g., 153).\n",
    "\n",
    "**Output:**  \n",
    "Output \"Yes, it's an Armstrong number.\" if the number is an Armstrong number. Otherwise, output \"No, it's not an Armstrong number.\"\n",
    "\n",
    "**Constraints:**  \n",
    "- The input should be a positive integer.  \n"
   ]
  },
  {
   "cell_type": "code",
   "execution_count": 22,
   "metadata": {},
   "outputs": [
    {
     "name": "stdin",
     "output_type": "stream",
     "text": [
      "Enter a positive integer to check Narcissistic Number 153\n"
     ]
    },
    {
     "name": "stdout",
     "output_type": "stream",
     "text": [
      "Yes, it's an Armstrong number\n"
     ]
    }
   ],
   "source": [
    "# Your Solution Here\n",
    "num = input(\"Enter a positive integer to check Narcissistic Number\")\n",
    "s= 0\n",
    "for i in num:\n",
    "    s = s + int(int(i)**len(num))\n",
    "if s == int(num):\n",
    "    print(\"Yes, it's an Armstrong number\")\n",
    "else:\n",
    "    print(\"No, it's not an Armstrong number\")"
   ]
  },
  {
   "cell_type": "markdown",
   "metadata": {},
   "source": [
    "### Control Flow with Nested Loops and Complex Logic\n",
    "\n",
    "Write a Python program that simulates a **number guessing game**:\n",
    "\n",
    "1. The program should generate a random number between 1 and 100 and give the user 7 attempts to guess it.\n",
    "\n",
    "2. After each wrong guess, the program should provide a hint whether the guess was too high or too low.\n",
    "\n",
    "3. If the user fails to guess the number within the attempts, the program should reveal the number and ask if they would like to play again."
   ]
  },
  {
   "cell_type": "code",
   "execution_count": 2,
   "metadata": {},
   "outputs": [
    {
     "name": "stdout",
     "output_type": "stream",
     "text": [
      "------------------------------\n",
      " Computer has select a number 1 to 100 \n",
      "------------------------------\n",
      "You got 7 Attempts to guess the correct number\n"
     ]
    },
    {
     "name": "stdin",
     "output_type": "stream",
     "text": [
      "Guess:  abc\n"
     ]
    },
    {
     "ename": "ValueError",
     "evalue": "invalid literal for int() with base 10: 'abc'",
     "output_type": "error",
     "traceback": [
      "\u001b[31m---------------------------------------------------------------------------\u001b[39m",
      "\u001b[31mValueError\u001b[39m                                Traceback (most recent call last)",
      "\u001b[36mCell\u001b[39m\u001b[36m \u001b[39m\u001b[32mIn[2]\u001b[39m\u001b[32m, line 10\u001b[39m\n\u001b[32m      8\u001b[39m \u001b[38;5;28mprint\u001b[39m(\u001b[33m\"\u001b[39m\u001b[33m-\u001b[39m\u001b[33m\"\u001b[39m*\u001b[32m30\u001b[39m)\n\u001b[32m      9\u001b[39m \u001b[38;5;28mprint\u001b[39m(\u001b[33mf\u001b[39m\u001b[33m\"\u001b[39m\u001b[33mYou got \u001b[39m\u001b[38;5;132;01m{\u001b[39;00mcount\u001b[38;5;132;01m}\u001b[39;00m\u001b[33m Attempts to guess the correct number\u001b[39m\u001b[33m\"\u001b[39m)\n\u001b[32m---> \u001b[39m\u001b[32m10\u001b[39m guess= \u001b[38;5;28;43mint\u001b[39;49m\u001b[43m(\u001b[49m\u001b[38;5;28;43minput\u001b[39;49m\u001b[43m(\u001b[49m\u001b[33;43m\"\u001b[39;49m\u001b[33;43mGuess: \u001b[39;49m\u001b[33;43m\"\u001b[39;49m\u001b[43m)\u001b[49m\u001b[43m)\u001b[49m\n\u001b[32m     11\u001b[39m \u001b[38;5;28mprint\u001b[39m(\u001b[33m\"\u001b[39m\u001b[33m-\u001b[39m\u001b[33m\"\u001b[39m*\u001b[32m30\u001b[39m)\n\u001b[32m     12\u001b[39m \u001b[38;5;28;01mif\u001b[39;00m guess == num:\n",
      "\u001b[31mValueError\u001b[39m: invalid literal for int() with base 10: 'abc'"
     ]
    }
   ],
   "source": [
    "# Your Solution Here\n",
    "import random\n",
    "num = random.randrange(1,100)\n",
    "count = 7\n",
    "while count != 0 :\n",
    "    print(\"-\"*30)\n",
    "    print(\" Computer has select a number 1 to 100 \")\n",
    "    print(\"-\"*30)\n",
    "    print(f\"You got {count} Attempts to guess the correct number\")\n",
    "    guess= int(input(\"Guess: \"))\n",
    "    print(\"-\"*30)\n",
    "    if guess == num:\n",
    "        print(\"You guessed the right ANS\")\n",
    "        break\n",
    "    else:\n",
    "        count -=1\n",
    "        print(f\"You Guess was wrong and Only {count} attempt is left\")\n",
    "        print(\"-\"*30)\n",
    "        print(\"Hint\")\n",
    "        print(\"-\"*30)\n",
    "        if guess > num :\n",
    "            print(\" your guess was too high\")\n",
    "        else:\n",
    "            print ( \" your guess was too low\")\n",
    "if count == 0:\n",
    "    print(\" YOU FAILED TO GUESS THE CORRECT NUMBER --__-- \" )"
   ]
  },
  {
   "cell_type": "markdown",
   "metadata": {},
   "source": [
    "\n",
    "### Write a Python program that iterates through integers from 1 to 50. For each multiple of three, print \"Fizz\" instead of the number; for each multiple of five, print \"Buzz\". For numbers that are multiples of both three and five, print \"FizzBuzz\".\n",
    "\n",
    "The FizzBuzz problem is a common coding challenge that is often used in programming interviews to test basic programming skills. The problem typically requires writing a function that prints numbers from 1 to a given limit, but with a twist:\n",
    "\n",
    "- For multiples of 3, print \"Fizz\" instead of the number.\n",
    "- For multiples of 5, print \"Buzz\" instead of the number.\n",
    "- For numbers which are multiples of both 3 and 5, print \"FizzBuzz\".\n",
    "\n",
    "\n"
   ]
  },
  {
   "cell_type": "code",
   "execution_count": 6,
   "metadata": {},
   "outputs": [
    {
     "name": "stdin",
     "output_type": "stream",
     "text": [
      "Enter a limit integer number to generate FizzBuzz problem 20\n"
     ]
    },
    {
     "name": "stdout",
     "output_type": "stream",
     "text": [
      "0\n",
      "1\n",
      "2\n",
      "Fizz\n",
      "4\n",
      "Buzz\n",
      "Fizz\n",
      "7\n",
      "8\n",
      "Fizz\n",
      "Buzz\n",
      "11\n",
      "Fizz\n",
      "13\n",
      "14\n",
      "FizzBuzz\n",
      "16\n",
      "17\n",
      "Fizz\n",
      "19\n",
      "Buzz\n"
     ]
    }
   ],
   "source": [
    "# Your Solution Here\n",
    "def FizzBuzz(num):\n",
    "    for i in range(num+1):\n",
    "        if i == 0:\n",
    "            print(i)\n",
    "        elif i%3== 0 and i%5== 0:\n",
    "            print(\"FizzBuzz\")\n",
    "        elif i%3 == 0:\n",
    "            print(\"Fizz\")\n",
    "        elif i%5 == 0:\n",
    "            print(\"Buzz\")\n",
    "        else:\n",
    "            print(i)\n",
    "\n",
    "num = int(input(\"Enter a limit integer number to generate FizzBuzz problem\"))\n",
    "FizzBuzz(num)\n",
    "    \n"
   ]
  },
  {
   "cell_type": "markdown",
   "metadata": {},
   "source": [
    "### Scenario:\n",
    "\n",
    "You are tasked with designing a system for a **vehicle rental company**. The company rents out various types of vehicles like **Cars** and **Bikes**, and each vehicle has some shared characteristics but also some distinct ones. \n",
    "\n",
    "### Requirements:\n",
    "1. Each **Vehicle** has attributes such as:\n",
    "   - `vehicle_id`: A unique identifier for the vehicle.\n",
    "   - `brand`: The brand of the vehicle.\n",
    "   - `rental_price`: Price per day to rent the vehicle.\n",
    "\n",
    "2. Both **Car** and **Bike** are types of **Vehicles**.  \n",
    "   - A **Car** has an additional attribute: `number_of_doors`.  \n",
    "   - A **Bike** has an additional attribute: `bike_type` (e.g., mountain bike, racing bike).\n",
    "\n",
    "3. You should provide methods to:\n",
    "   - **Calculate total rental cost**: Given the number of rental days, calculate the total cost for any vehicle.\n",
    "   - **Display vehicle details**: For both cars and bikes, display details including the unique attributes (e.g., `number_of_doors` for cars, `bike_type` for bikes).\n",
    "\n",
    "4. Implement the following OOP concepts:\n",
    "   - **Abstraction**: Provide a clean interface for calculating the total rental cost and displaying vehicle details, hiding the internal logic.\n",
    "   - **Inheritance**: Both **Car** and **Bike** should inherit common functionality from the **Vehicle** class.\n",
    "   - **Polymorphism**: Use method overriding so that the method for displaying vehicle details works differently for cars and bikes.\n",
    "\n",
    "---\n",
    "\n",
    "### Task:\n",
    "\n",
    "1. **Define a `Vehicle` base class** that implements the common attributes and methods.\n",
    "2. **Define two subclasses `Car` and `Bike`** that inherit from `Vehicle` and implement their specific attributes.\n",
    "3. Use encapsulation by making attributes private and providing public methods to interact with them.\n",
    "4. Use polymorphism to create a `display_details` method that behaves differently for `Car` and `Bike`.\n"
   ]
  },
  {
   "cell_type": "code",
   "execution_count": 53,
   "metadata": {},
   "outputs": [
    {
     "name": "stdout",
     "output_type": "stream",
     "text": [
      " Car Details \n",
      "--------------------\n",
      "**** Vehicle id = BA 1452 ****\n",
      "**** Brand = toyota ****\n",
      "****  Rental Price / Day = 100 ****\n",
      "**** Number of doors = 6 ****\n",
      "--------------------\n",
      "--------------------\n",
      "Total cost is $3000\n",
      " Bike Details \n",
      "--------------------\n",
      "**** Vehicle id = Pa 1523 ****\n",
      "**** Brand = Yamaha ****\n",
      "****  Rental Price / Day = 50 ****\n",
      "**** Bike Type = scooter ****\n",
      "--------------------\n",
      "--------------------\n",
      "Total cost is $1500\n"
     ]
    }
   ],
   "source": [
    "# Your Solution Here\n",
    "class Vehicle:\n",
    "    def __init__(My,vehicle_id,brand,rental_price):\n",
    "        My.__vehicle_id = vehicle_id\n",
    "        My.__brand = brand\n",
    "        My.__rental_price = rental_price\n",
    "    def calculate_total_rent_cost(My,rental_days):\n",
    "        total_cost = rental_days * My.__rental_price\n",
    "        print(f\"Total cost is ${total_cost}\")\n",
    "    def get_vehicle_id(My):\n",
    "        return My.__vehicle_id\n",
    "    def get_brand(My):\n",
    "        return My.__brand\n",
    "    def get_rental_price(My):\n",
    "        return My.__rental_price\n",
    "        \n",
    "    \n",
    "        \n",
    "class Car(Vehicle):\n",
    "    def __init__(My,vehicle_id,brand,rental_price,number_of_door):\n",
    "        super().__init__(vehicle_id,brand,rental_price)\n",
    "        My.number_of_door = number_of_door\n",
    "    def display_vehicle_details(My):\n",
    "        print(\" Car Details \")\n",
    "        print(\"-\"*20)\n",
    "        print(f\"**** Vehicle id = {Vehicle.get_vehicle_id(My)} ****\")\n",
    "        print(f\"**** Brand = {Vehicle.get_brand(My)} ****\")\n",
    "        print(f\"****  Rental Price / Day = {Vehicle.get_rental_price(My)} ****\")\n",
    "        print(f\"**** Number of doors = {My.number_of_door} ****\")\n",
    "        print(\"-\"*20)\n",
    "        print(\"-\"*20)\n",
    "    def calculate_total_rent_cost(My,days):\n",
    "        Vehicle.calculate_total_rent_cost(My,days)\n",
    "        \n",
    "class Bike(Vehicle):\n",
    "    \n",
    "    def __init__(My,vehicle_id,brand,rental_price,bike_type):\n",
    "        super().__init__(vehicle_id,brand,rental_price)\n",
    "        My.bike_type = bike_type\n",
    "    def display_vehicle_details(My):\n",
    "        \n",
    "        print(\" Bike Details \")\n",
    "        print(\"-\"*20)\n",
    "        print(f\"**** Vehicle id = {Vehicle.get_vehicle_id(My)} ****\")\n",
    "        print(f\"**** Brand = {Vehicle.get_brand(My)} ****\")\n",
    "        print(f\"****  Rental Price / Day = {Vehicle.get_rental_price(My)} ****\")\n",
    "        print(f\"**** Bike Type = {My.bike_type} ****\")\n",
    "        print(\"-\"*20)\n",
    "        print(\"-\"*20)\n",
    "\n",
    "def displaying_details(vehicle):\n",
    "    \n",
    "    vehicle.display_vehicle_details()\n",
    "\n",
    "def calculate_rent_price(vehicle,days):\n",
    "    \n",
    "    vehicle.calculate_total_rent_cost(days)\n",
    "\n",
    "car=Car(\"BA 1452\",\"toyota\",100,6)\n",
    "bike=Bike(\"Pa 1523\",\"Yamaha\",50,\"scooter\")\n",
    "displaying_details(car)\n",
    "calculate_rent_price(car,30)\n",
    "displaying_details(bike)\n",
    "calculate_rent_price(bike,30)\n"
   ]
  },
  {
   "cell_type": "code",
   "execution_count": null,
   "metadata": {},
   "outputs": [],
   "source": []
  }
 ],
 "metadata": {
  "kernelspec": {
   "display_name": "Python 3 (ipykernel)",
   "language": "python",
   "name": "python3"
  },
  "language_info": {
   "codemirror_mode": {
    "name": "ipython",
    "version": 3
   },
   "file_extension": ".py",
   "mimetype": "text/x-python",
   "name": "python",
   "nbconvert_exporter": "python",
   "pygments_lexer": "ipython3",
   "version": "3.13.3"
  }
 },
 "nbformat": 4,
 "nbformat_minor": 4
}
