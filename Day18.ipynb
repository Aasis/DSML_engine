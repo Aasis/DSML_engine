{
 "cells": [
  {
   "cell_type": "markdown",
   "id": "c4fff75c-dae3-438d-890d-578e4bd4c6ea",
   "metadata": {},
   "source": [
    "### Random module \n",
    "\n"
   ]
  },
  {
   "cell_type": "code",
   "execution_count": 1,
   "id": "1cc40360-efbf-4561-aa8e-9f6ee28a51d7",
   "metadata": {},
   "outputs": [],
   "source": [
    "#pseudo random no \n",
    "#not truly random \n",
    "#deterministic algorithm bata random no generate garxa \n",
    "#seed taha vayo vane we can predict \n"
   ]
  },
  {
   "cell_type": "code",
   "execution_count": 2,
   "id": "4a89706a-ad2a-4ff5-8bcd-1889f6399566",
   "metadata": {},
   "outputs": [],
   "source": [
    "# distribution \n",
    "# stats\n"
   ]
  },
  {
   "cell_type": "markdown",
   "id": "f6df10f9-157f-4a26-b995-7f8326e03d03",
   "metadata": {},
   "source": [
    "### Uniform Distribution"
   ]
  },
  {
   "cell_type": "code",
   "execution_count": 3,
   "id": "d8cc7f1e-fbc1-4d8f-936f-9a8a52f45113",
   "metadata": {},
   "outputs": [],
   "source": [
    "import random as r"
   ]
  },
  {
   "cell_type": "code",
   "execution_count": 5,
   "id": "f38d91ff-c5f0-47d4-9b9e-7b2f20ff5631",
   "metadata": {},
   "outputs": [
    {
     "data": {
      "text/plain": [
       "0.5726656847397261"
      ]
     },
     "execution_count": 5,
     "metadata": {},
     "output_type": "execute_result"
    }
   ],
   "source": [
    "r.random() # generate floating number from 0 - 1 yesma 1 exclusive huncha [0,1)"
   ]
  },
  {
   "cell_type": "code",
   "execution_count": 6,
   "id": "06ba9476-2961-45a7-816d-da8c521bd549",
   "metadata": {},
   "outputs": [
    {
     "data": {
      "text/plain": [
       "158.49024953992244"
      ]
     },
     "execution_count": 6,
     "metadata": {},
     "output_type": "execute_result"
    }
   ],
   "source": [
    "r.uniform(100,500) # both inclusive hunxa , float value between range dinxa"
   ]
  },
  {
   "cell_type": "code",
   "execution_count": 8,
   "id": "1cb3bc45-e305-4935-b23c-23cc49d4a973",
   "metadata": {},
   "outputs": [
    {
     "data": {
      "text/plain": [
       "119"
      ]
     },
     "execution_count": 8,
     "metadata": {},
     "output_type": "execute_result"
    }
   ],
   "source": [
    "r.randint(100,500) # generate integer number both inclusive [100,500]"
   ]
  },
  {
   "cell_type": "code",
   "execution_count": 12,
   "id": "b4b65400-72c7-495f-8a5f-ded25806bfe6",
   "metadata": {},
   "outputs": [
    {
     "data": {
      "text/plain": [
       "300"
      ]
     },
     "execution_count": 12,
     "metadata": {},
     "output_type": "execute_result"
    }
   ],
   "source": [
    "r.randrange(100,500,25) # [100,500)"
   ]
  },
  {
   "cell_type": "markdown",
   "id": "78437d6c-65e3-4325-8bb6-a03a74ca501c",
   "metadata": {},
   "source": [
    " ### random suffeling garda , or randomness generate garne during data working ma use huncha "
   ]
  },
  {
   "cell_type": "code",
   "execution_count": 13,
   "id": "cf4f099f-0bb0-4c4a-b7a5-876a4d8069f2",
   "metadata": {},
   "outputs": [],
   "source": [
    "# experiment garna use better "
   ]
  },
  {
   "cell_type": "markdown",
   "id": "87efe1aa-98e4-476e-9eac-d7547e93438a",
   "metadata": {},
   "source": [
    "### Sequence related function"
   ]
  },
  {
   "cell_type": "code",
   "execution_count": 14,
   "id": "997b2320-25d8-4a3c-bded-e778b1805c53",
   "metadata": {},
   "outputs": [
    {
     "data": {
      "text/plain": [
       "'queen'"
      ]
     },
     "execution_count": 14,
     "metadata": {},
     "output_type": "execute_result"
    }
   ],
   "source": [
    "cards = ['ace','king','queen','jack','ten','nine']\n",
    "r.choice(cards)"
   ]
  },
  {
   "cell_type": "code",
   "execution_count": 15,
   "id": "ec6873fd-6447-4e74-b254-d2750e219cac",
   "metadata": {},
   "outputs": [],
   "source": [
    "r.shuffle(cards) # memory location mai change gardinxa in place change "
   ]
  },
  {
   "cell_type": "markdown",
   "id": "ff53d9db-cd7b-4e92-ba4f-e40e387be6c3",
   "metadata": {},
   "source": [
    "cards[0]"
   ]
  },
  {
   "cell_type": "code",
   "execution_count": 17,
   "id": "2d8e01cc-0e19-4cfa-a096-15ea6fc79733",
   "metadata": {},
   "outputs": [
    {
     "data": {
      "text/plain": [
       "['queen', 'jack', 'king', 'nine', 'ten', 'ace']"
      ]
     },
     "execution_count": 17,
     "metadata": {},
     "output_type": "execute_result"
    }
   ],
   "source": [
    "cards"
   ]
  },
  {
   "cell_type": "code",
   "execution_count": 25,
   "id": "65e12aa9-ff19-41de-b05d-33ff2c3f4dd5",
   "metadata": {},
   "outputs": [
    {
     "data": {
      "text/plain": [
       "['nine', 'ten', 'ace']"
      ]
     },
     "execution_count": 25,
     "metadata": {},
     "output_type": "execute_result"
    }
   ],
   "source": [
    "r.sample(cards,3) # unique sample niklne # yesma hudaina "
   ]
  },
  {
   "cell_type": "code",
   "execution_count": 24,
   "id": "95254219-f11f-4334-9f12-596c87a23b63",
   "metadata": {},
   "outputs": [
    {
     "data": {
      "text/plain": [
       "['ace', 'nine', 'queen']"
      ]
     },
     "execution_count": 24,
     "metadata": {},
     "output_type": "execute_result"
    }
   ],
   "source": [
    "r.choices(cards, weights=[0.2,0.12,0.1,0.4,0.23,0.5], k = 3 ) # repeat ni huna pauxa hai "
   ]
  },
  {
   "cell_type": "markdown",
   "id": "d4316f44-2483-4165-9d69-3783aaf5c00f",
   "metadata": {},
   "source": [
    "### Distributions and probabiliy density Function"
   ]
  },
  {
   "cell_type": "markdown",
   "id": "df7f3bc5-a966-4b44-83e7-9a4a03f08908",
   "metadata": {},
   "source": [
    "*Trangular Distribution, normal gaussian , exponential*"
   ]
  },
  {
   "cell_type": "code",
   "execution_count": 26,
   "id": "aea543bb-81c1-466a-a8ce-1c4bb2b4ed6a",
   "metadata": {},
   "outputs": [
    {
     "data": {
      "text/plain": [
       "7.725283894707349"
      ]
     },
     "execution_count": 26,
     "metadata": {},
     "output_type": "execute_result"
    }
   ],
   "source": [
    "r.triangular(0,10,5)"
   ]
  },
  {
   "cell_type": "markdown",
   "id": "289c02fe-29ee-45cb-b3d0-9b5a1acba238",
   "metadata": {},
   "source": [
    "### SEED GENERATE"
   ]
  },
  {
   "cell_type": "code",
   "execution_count": 28,
   "id": "44f454c7-3440-411e-bc0f-94669a6da4b3",
   "metadata": {},
   "outputs": [],
   "source": [
    "r.seed(555)"
   ]
  },
  {
   "cell_type": "code",
   "execution_count": 32,
   "id": "2f632e0e-486b-4a23-9bb8-2f43e57b7f1b",
   "metadata": {},
   "outputs": [
    {
     "data": {
      "text/plain": [
       "3"
      ]
     },
     "execution_count": 32,
     "metadata": {},
     "output_type": "execute_result"
    }
   ],
   "source": [
    "r.randint(1,10) # sab ko 4 aayo after defining seed 555 ## check the black box of seed and algorithm ."
   ]
  },
  {
   "cell_type": "code",
   "execution_count": 33,
   "id": "5f0c52e0-1c35-434c-9001-fb8dd515f811",
   "metadata": {},
   "outputs": [],
   "source": [
    "# data same xa , distribution same xa so or same randomness ma if we want to experiment with diff models so we use it there."
   ]
  },
  {
   "cell_type": "code",
   "execution_count": 34,
   "id": "64395d4c-22ba-4c43-b629-9e7dc5941b4a",
   "metadata": {},
   "outputs": [],
   "source": [
    "import random as r"
   ]
  },
  {
   "cell_type": "code",
   "execution_count": 35,
   "id": "8eb2a099-b81f-48fb-be28-2e8d25d6b325",
   "metadata": {},
   "outputs": [],
   "source": [
    "state = r.getstate()"
   ]
  },
  {
   "cell_type": "code",
   "execution_count": 36,
   "id": "1d3e7e22-3e32-4ab7-b590-1b1c62b27df5",
   "metadata": {},
   "outputs": [
    {
     "name": "stdout",
     "output_type": "stream",
     "text": [
      "9 2 3\n",
      "(3, (670556588, 13147155, 3481995897, 3051419323, 3165757571, 4199005718, 2071289990, 3794511223, 2790508653, 1977846748, 1694745812, 1315923778, 2662308889, 2296869817, 2815364576, 1648896317, 1049154955, 910194482, 1056164996, 2893490692, 1030274881, 4173708083, 4080582894, 293400713, 509424634, 3265880829, 2998089301, 3992674889, 3356090209, 665720808, 3640902018, 3654404782, 2309593120, 1265103752, 27806166, 2378566084, 251535894, 281237586, 2170205568, 153182688, 998147212, 3572951937, 3632821125, 4206538127, 4214239854, 2410196531, 933807677, 1551978398, 30320123, 4135465157, 41364958, 304825084, 1620227282, 781236015, 1100006162, 1476811755, 1243713128, 2069896531, 1001582827, 1419489860, 242299778, 1243337121, 1930476773, 3045263035, 1694837751, 3431432873, 3519405447, 2302075365, 2088025306, 3626572345, 1247609875, 2213538749, 2803839941, 2051926528, 923115859, 1269338539, 87301832, 1337417206, 3270368534, 3373072604, 2016457801, 2133817227, 3266074755, 215382024, 1295726489, 3239458761, 3942856007, 3453609027, 374003857, 1123880617, 694832971, 3492618152, 1526297953, 263339573, 2921309176, 907583424, 2250613123, 4120000384, 2342398625, 258365388, 1005264608, 2317443870, 3089497737, 1899547757, 1502943005, 1682742628, 458868733, 589161978, 951701436, 1391505888, 811169565, 1224134903, 4070336136, 1944023483, 361802952, 2844431895, 3577930829, 4011145694, 989727789, 304168199, 2358898857, 1116426424, 2221997792, 2300658808, 2929075609, 3259436057, 1720967460, 3703168917, 3227947607, 2171779665, 202539959, 402116509, 2544962672, 3787864032, 2400942748, 1004521266, 367777043, 891067839, 2235273376, 2550821931, 2655988323, 1190123091, 312643465, 2834039271, 3578023448, 3127069004, 3701925046, 297930565, 3055011804, 1516270020, 3561484844, 4114334452, 4212008868, 1135719583, 1003055035, 251324947, 2110174359, 2581929509, 807979791, 2602456654, 372694387, 3142428936, 508336628, 723765734, 4169745859, 3957353339, 1358886961, 2211859696, 2458722654, 1726442412, 1563133169, 786234296, 2025453292, 912982184, 318499215, 2488235784, 2603134260, 3476230692, 2196417401, 1827854556, 2489567016, 2468036390, 2144311259, 310559660, 2730681002, 3154464568, 736478288, 209967322, 545805465, 2934089784, 1014541877, 3817838462, 431158917, 1125050670, 3186775644, 1178738748, 361982219, 3497514959, 2160584902, 2886925717, 610164586, 2745684005, 3797054280, 2213716745, 1389578026, 3517035196, 2065016645, 1663405626, 4258933851, 2925226344, 3924301184, 521468411, 4263424161, 2971290649, 931581718, 2768736831, 2143825412, 1089666026, 2255821527, 244249864, 26590852, 645786912, 4275407843, 4255531368, 1281526769, 1445350995, 3542664012, 1667175440, 2036053505, 908169592, 2078078153, 2145087744, 785783765, 2767905954, 4061220637, 3577962177, 3139488940, 59172676, 2134359860, 2383744837, 1523776647, 194914, 2525920281, 15881, 1080827165, 1464287665, 3597129395, 935934642, 1461375220, 3268231743, 2355009025, 403602287, 3084918391, 1671199628, 828948171, 2845100593, 64540511, 4178926587, 1054263137, 1665239844, 3680313073, 4275730606, 4080912396, 710442469, 1618763903, 3026277441, 1444600472, 3167069570, 1350304526, 3273029121, 447371309, 1367860934, 1030871734, 3327852551, 2382519432, 257287061, 749927010, 298862083, 1955807735, 3497519234, 2791709669, 2391480212, 1316921581, 742183434, 1044078696, 4293588445, 1920431975, 3115405241, 3648353577, 2401292292, 799142086, 2715287888, 3352604310, 1288543251, 1942100442, 1456023380, 3035775359, 2070391838, 3234451916, 210351957, 2126557182, 1618480345, 65176228, 3658455192, 4221186246, 2518173861, 277515324, 2246691242, 1017480503, 3698002464, 1290946475, 3727067552, 1755867717, 2412329676, 3287607733, 1164526338, 1989482618, 3050792161, 356494086, 3727044061, 933688199, 2926281431, 4225919237, 2867446836, 1261592508, 2258038517, 3642359935, 3535452254, 688593177, 2604802678, 4037093195, 628505033, 1146587940, 2338859018, 629481586, 2839578946, 655610062, 454812444, 121177660, 2174218518, 2578321352, 1187678679, 359174010, 2401352874, 2635368651, 3379234846, 1305466974, 2933815531, 1049246899, 2564117058, 3831846880, 3585174376, 3279400798, 4052167227, 148026596, 1286766097, 2591153120, 3255517620, 716509759, 1463912781, 2237089462, 3618579584, 1776751993, 2131720205, 1066221548, 985316854, 3436783794, 3857395237, 1852690704, 1561628217, 300478624, 1944443515, 2620039407, 3545163858, 1637081287, 1648182506, 3454351012, 2134319591, 2435018513, 1619813759, 3474835451, 1887559171, 1009217357, 403764771, 2973283018, 1431856179, 3382389876, 2191553142, 3482576079, 3473942355, 1059502629, 1105681736, 328525377, 2525532010, 895530513, 669297074, 1347757528, 2266442726, 2632397090, 1562140112, 751137308, 2131973286, 797433469, 2624346128, 364337718, 1203520536, 802320326, 2816182327, 563915434, 3588758413, 3606956297, 2317636388, 2514890042, 1363186947, 1205988990, 15373135, 2271865754, 4222806946, 3530551666, 2382200492, 1300564994, 1588585006, 3382848935, 304392781, 3573906018, 3101337227, 1064947130, 3462211276, 1075782856, 3538554162, 820664143, 2753627613, 2944833646, 3511047647, 129152719, 606846602, 2682990472, 3542663753, 1274625758, 710240937, 3296691975, 2513778317, 486562764, 1724106483, 2589453387, 250706628, 3597660119, 134946673, 560181427, 2498763026, 366704340, 2285057601, 139790172, 1035893489, 2963017776, 2559992727, 1960394623, 1108516978, 3298641100, 4071979543, 2895058046, 639338684, 1096587227, 4186717947, 1509015643, 112331985, 2119404172, 1297274299, 378783609, 3779526700, 2734931633, 2339254799, 2362967174, 2731976956, 3080765048, 2034647131, 479906222, 3648937528, 364756648, 3693196292, 4253610130, 1372257586, 55425982, 3738766895, 510686588, 3501258145, 583244997, 1393820844, 2150587270, 3983258202, 497190265, 3121493031, 3152645072, 4275122739, 744124497, 885427561, 3327884250, 3171239015, 3261479304, 589250581, 84310450, 1761537412, 2869130862, 3841403620, 3104221215, 3869326865, 1604352037, 243915531, 667795526, 2328912751, 3844494269, 3818207339, 3929832783, 975710316, 1572221321, 2521383096, 3279466068, 2651539658, 2259748764, 2308606826, 3350516561, 3419985146, 168210218, 2044920337, 4031157108, 1075151649, 2995770864, 953672389, 2451817, 3454651667, 764384855, 3584673103, 1629376106, 413045538, 2930455352, 3073803972, 135417112, 881854464, 2896118817, 2230333156, 3266010283, 2453622650, 4188289197, 519189099, 2890892546, 4059851729, 2027047010, 1779287866, 162384920, 2146909526, 2140334591, 3481222648, 969113075, 2006425872, 661501642, 2788612758, 2335624605, 3197815629, 1093543, 1407723209, 2518158647, 3278828307, 1225717564, 161322623, 2831261320, 31515333, 366935886, 441418761, 1622989028, 1460005586, 1966262490, 102605296, 1706106692, 2099236925, 3241259891, 3921973572, 1683366096, 4186432099, 2791869949, 1542309002, 565630950, 2185511546, 2069935261, 2226518524, 3355529981, 2373387306, 2337095149, 654369201, 2568208587, 4019152126, 3652740171, 1684681863, 1476106141, 278689663, 3265162095, 3575608163, 1775457047, 58390585, 2756317844, 503491511, 857986513, 1444887767, 2430231628, 1261613204, 2439730210, 4210591799, 2366287276, 2482620677, 4065049129, 3919422835, 337560068, 203863649, 3165129496, 3741259696, 2055791080, 3288736838, 279408198, 2057624481, 2776158222, 2728564963, 1127586514, 1245169262, 377771206, 1135531278, 4), None)\n"
     ]
    }
   ],
   "source": [
    "a = r.randint(1,10)\n",
    "b = r.randint(1,10)\n",
    "c = r.randint(1,10)\n",
    "print(a,b,c)\n",
    "print(state)"
   ]
  },
  {
   "cell_type": "code",
   "execution_count": 37,
   "id": "2698c95c-13a0-4641-b61c-f34824e60fd4",
   "metadata": {},
   "outputs": [
    {
     "name": "stdout",
     "output_type": "stream",
     "text": [
      "9 2 3\n",
      "None\n"
     ]
    }
   ],
   "source": [
    "state = r.setstate(state)\n",
    "a = r.randint(1,10)\n",
    "b = r.randint(1,10)\n",
    "c = r.randint(1,10)\n",
    "print(a,b,c)\n",
    "print(state)\n"
   ]
  },
  {
   "cell_type": "markdown",
   "id": "edbb7a3e-19d3-49c4-a448-299dd4dff7f0",
   "metadata": {},
   "source": [
    "r.seed(1)\n",
    "s= r.getstate()\n",
    "#neural line \n",
    "print(s)"
   ]
  },
  {
   "cell_type": "markdown",
   "id": "c4b5b5f5-cece-4aa3-87c9-e3c81eda434d",
   "metadata": {},
   "source": [
    "### we can create a diff module our self "
   ]
  },
  {
   "cell_type": "code",
   "execution_count": 41,
   "id": "dad70e3a-d981-4b90-a714-8e892f53ce76",
   "metadata": {},
   "outputs": [
    {
     "data": {
      "text/plain": [
       "'we need to create a file \\nby creating __init__ le \\nsee how does it initialize'"
      ]
     },
     "execution_count": 41,
     "metadata": {},
     "output_type": "execute_result"
    }
   ],
   "source": [
    "'''we need to create a file \n",
    "by creating __init__ le \n",
    "see how does it initialize''' "
   ]
  },
  {
   "cell_type": "code",
   "execution_count": 42,
   "id": "763d3fa9-637c-4128-883e-a66bde59eafb",
   "metadata": {},
   "outputs": [],
   "source": [
    "from Module import SUM"
   ]
  },
  {
   "cell_type": "code",
   "execution_count": 52,
   "id": "ee66516d-e20e-4bd8-bc46-8034c722b0e9",
   "metadata": {},
   "outputs": [
    {
     "ename": "TypeError",
     "evalue": "SUM.add() takes 1 positional argument but 2 were given",
     "output_type": "error",
     "traceback": [
      "\u001b[31m---------------------------------------------------------------------------\u001b[39m",
      "\u001b[31mTypeError\u001b[39m                                 Traceback (most recent call last)",
      "\u001b[36mCell\u001b[39m\u001b[36m \u001b[39m\u001b[32mIn[52]\u001b[39m\u001b[32m, line 1\u001b[39m\n\u001b[32m----> \u001b[39m\u001b[32m1\u001b[39m a= \u001b[43mSUM\u001b[49m\u001b[43m.\u001b[49m\u001b[43madd\u001b[49m\u001b[43m(\u001b[49m\u001b[32;43m1\u001b[39;49m\u001b[43m,\u001b[49m\u001b[32;43m2\u001b[39;49m\u001b[43m)\u001b[49m\n\u001b[32m      2\u001b[39m \u001b[38;5;28mprint\u001b[39m(a)\n",
      "\u001b[31mTypeError\u001b[39m: SUM.add() takes 1 positional argument but 2 were given"
     ]
    }
   ],
   "source": [
    "a= SUM.add(1,2)\n",
    "print(a)"
   ]
  },
  {
   "cell_type": "code",
   "execution_count": null,
   "id": "9cb40188-25f0-4084-af57-9a631e3219af",
   "metadata": {},
   "outputs": [],
   "source": []
  }
 ],
 "metadata": {
  "kernelspec": {
   "display_name": "Python 3 (ipykernel)",
   "language": "python",
   "name": "python3"
  },
  "language_info": {
   "codemirror_mode": {
    "name": "ipython",
    "version": 3
   },
   "file_extension": ".py",
   "mimetype": "text/x-python",
   "name": "python",
   "nbconvert_exporter": "python",
   "pygments_lexer": "ipython3",
   "version": "3.13.3"
  }
 },
 "nbformat": 4,
 "nbformat_minor": 5
}
