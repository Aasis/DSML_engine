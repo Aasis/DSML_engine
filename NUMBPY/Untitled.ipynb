{
 "cells": [
  {
   "cell_type": "code",
   "execution_count": 1,
   "id": "80f770a8-580e-4bda-861d-cb156b04cdb6",
   "metadata": {},
   "outputs": [],
   "source": [
    "import numpy as np"
   ]
  },
  {
   "cell_type": "code",
   "execution_count": 20,
   "id": "1ad13cc9-670e-4c85-958d-f07ef2e29b23",
   "metadata": {},
   "outputs": [],
   "source": [
    "z = np.random.randint(1,50,(4,6))"
   ]
  },
  {
   "cell_type": "code",
   "execution_count": 22,
   "id": "58b7da8b-501c-44a4-86fd-bd93dc900231",
   "metadata": {},
   "outputs": [
    {
     "data": {
      "text/plain": [
       "array([[38, 43, 19, 16, 32, 23],\n",
       "       [ 6,  6, 32, 46,  2, 22],\n",
       "       [46, 10,  2, 29, 16, 26],\n",
       "       [48, 37, 42, 41, 36, 45]], dtype=int32)"
      ]
     },
     "execution_count": 22,
     "metadata": {},
     "output_type": "execute_result"
    }
   ],
   "source": [
    "z"
   ]
  },
  {
   "cell_type": "code",
   "execution_count": 4,
   "id": "6b89beac-7cfa-4970-9910-f87a497f373b",
   "metadata": {},
   "outputs": [
    {
     "data": {
      "text/plain": [
       "np.int64(144)"
      ]
     },
     "execution_count": 4,
     "metadata": {},
     "output_type": "execute_result"
    }
   ],
   "source": [
    "z.sum()"
   ]
  },
  {
   "cell_type": "markdown",
   "id": "e741db4b-c439-4c76-9c23-06668b0125dd",
   "metadata": {},
   "source": [
    "### Sum nikalna paro vane kam lagxa "
   ]
  },
  {
   "cell_type": "code",
   "execution_count": 5,
   "id": "675c00ad-4e1f-4a15-8fde-1562bf446f7a",
   "metadata": {},
   "outputs": [
    {
     "data": {
      "text/plain": [
       "array([43, 45, 29, 27])"
      ]
     },
     "execution_count": 5,
     "metadata": {},
     "output_type": "execute_result"
    }
   ],
   "source": [
    "z.sum(axis=1)"
   ]
  },
  {
   "cell_type": "code",
   "execution_count": 6,
   "id": "5d06b008-bcd6-4716-965f-fb4792fc2fba",
   "metadata": {},
   "outputs": [
    {
     "data": {
      "text/plain": [
       "array([21, 20, 27, 24, 26, 26])"
      ]
     },
     "execution_count": 6,
     "metadata": {},
     "output_type": "execute_result"
    }
   ],
   "source": [
    "z.sum(axis=0)"
   ]
  },
  {
   "cell_type": "code",
   "execution_count": 7,
   "id": "aae640b6-4e73-429b-a337-be82e0484498",
   "metadata": {},
   "outputs": [
    {
     "data": {
      "text/plain": [
       "np.int64(192072198786048000)"
      ]
     },
     "execution_count": 7,
     "metadata": {},
     "output_type": "execute_result"
    }
   ],
   "source": [
    "z.prod()"
   ]
  },
  {
   "cell_type": "code",
   "execution_count": 8,
   "id": "b59c8cc3-5fad-4193-a2b8-57f9866244b2",
   "metadata": {},
   "outputs": [
    {
     "data": {
      "text/plain": [
       "array([127008, 158760,   4200,   2268])"
      ]
     },
     "execution_count": 8,
     "metadata": {},
     "output_type": "execute_result"
    }
   ],
   "source": [
    "z.prod(axis=1)"
   ]
  },
  {
   "cell_type": "code",
   "execution_count": 9,
   "id": "fe3675d9-37df-43a9-bbde-b951a9773dd4",
   "metadata": {},
   "outputs": [
    {
     "data": {
      "text/plain": [
       "array([ 630,  189, 1890,  441, 1440, 1344])"
      ]
     },
     "execution_count": 9,
     "metadata": {},
     "output_type": "execute_result"
    }
   ],
   "source": [
    "z.prod(axis=0)"
   ]
  },
  {
   "cell_type": "markdown",
   "id": "dd67a4bf-6f78-41ab-b6b0-b1f6a04d0f25",
   "metadata": {},
   "source": [
    "### Cummulative sum"
   ]
  },
  {
   "cell_type": "code",
   "execution_count": 10,
   "id": "3205875c-56dc-48e3-86dd-fb664e29bc33",
   "metadata": {},
   "outputs": [
    {
     "data": {
      "text/plain": [
       "array([  6,  13,  19,  26,  35,  43,  48,  57,  66,  73,  81,  88,  95,\n",
       "        98, 103, 104, 109, 117, 120, 121, 128, 137, 141, 144])"
      ]
     },
     "execution_count": 10,
     "metadata": {},
     "output_type": "execute_result"
    }
   ],
   "source": [
    "z.cumsum()"
   ]
  },
  {
   "cell_type": "code",
   "execution_count": 11,
   "id": "dd30530a-36fb-4d1d-8a10-b9527abd1d7e",
   "metadata": {},
   "outputs": [
    {
     "data": {
      "text/plain": [
       "array([[ 6,  7,  6,  7,  9,  8],\n",
       "       [11, 16, 15, 14, 17, 15],\n",
       "       [18, 19, 20, 15, 22, 23],\n",
       "       [21, 20, 27, 24, 26, 26]])"
      ]
     },
     "execution_count": 11,
     "metadata": {},
     "output_type": "execute_result"
    }
   ],
   "source": [
    "z.cumsum(axis=0)"
   ]
  },
  {
   "cell_type": "markdown",
   "id": "447bb006-5602-464e-863f-79154996c7ac",
   "metadata": {},
   "source": [
    "### max and min is to find maximum value from axis"
   ]
  },
  {
   "cell_type": "code",
   "execution_count": 12,
   "id": "1b97485b-d237-44ce-9261-151371db0bc8",
   "metadata": {},
   "outputs": [
    {
     "data": {
      "text/plain": [
       "np.int32(9)"
      ]
     },
     "execution_count": 12,
     "metadata": {},
     "output_type": "execute_result"
    }
   ],
   "source": [
    "z.max()"
   ]
  },
  {
   "cell_type": "code",
   "execution_count": 13,
   "id": "803322d1-c11d-45e7-9d65-d1fe048f1d6a",
   "metadata": {},
   "outputs": [
    {
     "data": {
      "text/plain": [
       "np.int32(1)"
      ]
     },
     "execution_count": 13,
     "metadata": {},
     "output_type": "execute_result"
    }
   ],
   "source": [
    "z.min()"
   ]
  },
  {
   "cell_type": "code",
   "execution_count": 14,
   "id": "d15b5647-5590-4ff8-9731-817f02b68485",
   "metadata": {},
   "outputs": [
    {
     "data": {
      "text/plain": [
       "array([9, 9, 8, 9], dtype=int32)"
      ]
     },
     "execution_count": 14,
     "metadata": {},
     "output_type": "execute_result"
    }
   ],
   "source": [
    "z.max(axis=1)"
   ]
  },
  {
   "cell_type": "code",
   "execution_count": 15,
   "id": "91cfe021-9fd8-4d61-abd7-a2f7218d0d6c",
   "metadata": {},
   "outputs": [
    {
     "data": {
      "text/plain": [
       "array([6, 5, 1, 1], dtype=int32)"
      ]
     },
     "execution_count": 15,
     "metadata": {},
     "output_type": "execute_result"
    }
   ],
   "source": [
    "z.min(axis=1)"
   ]
  },
  {
   "cell_type": "code",
   "execution_count": 16,
   "id": "e2b3bbc4-1cd8-4d79-840d-997465a82c11",
   "metadata": {},
   "outputs": [
    {
     "data": {
      "text/plain": [
       "array([7, 9, 9, 9, 9, 8], dtype=int32)"
      ]
     },
     "execution_count": 16,
     "metadata": {},
     "output_type": "execute_result"
    }
   ],
   "source": [
    "z.max(axis=0)"
   ]
  },
  {
   "cell_type": "code",
   "execution_count": 17,
   "id": "fac4d0d2-0591-40fc-8814-39c89b641edc",
   "metadata": {},
   "outputs": [
    {
     "data": {
      "text/plain": [
       "array([3, 1, 5, 1, 4, 3], dtype=int32)"
      ]
     },
     "execution_count": 17,
     "metadata": {},
     "output_type": "execute_result"
    }
   ],
   "source": [
    "z.min(axis=0)"
   ]
  },
  {
   "cell_type": "code",
   "execution_count": 21,
   "id": "e8e7c8fd-23ef-43ea-b2c9-2db5b110c6d7",
   "metadata": {},
   "outputs": [
    {
     "data": {
      "text/plain": [
       "np.int64(18)"
      ]
     },
     "execution_count": 21,
     "metadata": {},
     "output_type": "execute_result"
    }
   ],
   "source": [
    "z.argmax()"
   ]
  },
  {
   "cell_type": "code",
   "execution_count": 23,
   "id": "5c59fa64-02ff-4038-8eb7-7de7012319bd",
   "metadata": {},
   "outputs": [
    {
     "data": {
      "text/plain": [
       "np.int32(48)"
      ]
     },
     "execution_count": 23,
     "metadata": {},
     "output_type": "execute_result"
    }
   ],
   "source": [
    "z.max()"
   ]
  },
  {
   "cell_type": "code",
   "execution_count": 24,
   "id": "c35cca72-0098-418c-86d8-ea4d8679595c",
   "metadata": {},
   "outputs": [
    {
     "data": {
      "text/plain": [
       "array([3, 0, 3, 1, 3, 3])"
      ]
     },
     "execution_count": 24,
     "metadata": {},
     "output_type": "execute_result"
    }
   ],
   "source": [
    "z.argmax(axis=0)"
   ]
  },
  {
   "cell_type": "code",
   "execution_count": 25,
   "id": "d5fab0d1-3ab7-4846-a6ad-2ea4ff703063",
   "metadata": {},
   "outputs": [
    {
     "data": {
      "text/plain": [
       "array([1, 3, 0, 0])"
      ]
     },
     "execution_count": 25,
     "metadata": {},
     "output_type": "execute_result"
    }
   ],
   "source": [
    "z.argmax(axis=1)"
   ]
  },
  {
   "cell_type": "code",
   "execution_count": 31,
   "id": "b16d69cd-4d25-481d-8341-b34aae6dc1c9",
   "metadata": {},
   "outputs": [
    {
     "data": {
      "text/plain": [
       "array([[30, 30, 19, 16, 30, 23],\n",
       "       [ 6,  6, 30, 30,  6, 22],\n",
       "       [30, 10,  6, 29, 16, 26],\n",
       "       [30, 30, 30, 30, 30, 30]], dtype=int32)"
      ]
     },
     "execution_count": 31,
     "metadata": {},
     "output_type": "execute_result"
    }
   ],
   "source": [
    "z.clip(6,30) # clipping "
   ]
  },
  {
   "cell_type": "markdown",
   "id": "cecf8dfa-70d9-4a57-af03-177ce2f58164",
   "metadata": {},
   "source": [
    "### ELEMENT WISE OPERATION"
   ]
  },
  {
   "cell_type": "code",
   "execution_count": 45,
   "id": "a789f654-d4bd-40b5-ac9c-226c7bdc8ba2",
   "metadata": {},
   "outputs": [],
   "source": [
    "a = np.array([[4,5,6],[5,7,9]])\n",
    "b = np.array([[1,5,8],[5,1,9]])"
   ]
  },
  {
   "cell_type": "code",
   "execution_count": 33,
   "id": "3f5d4e75-bf30-4bad-8e1f-3a98c29e59af",
   "metadata": {},
   "outputs": [
    {
     "data": {
      "text/plain": [
       "(array([[4, 5, 6],\n",
       "        [5, 7, 9]]),\n",
       " array([[1, 5, 8],\n",
       "        [5, 0, 9]]))"
      ]
     },
     "execution_count": 33,
     "metadata": {},
     "output_type": "execute_result"
    }
   ],
   "source": [
    "a,b"
   ]
  },
  {
   "cell_type": "code",
   "execution_count": 34,
   "id": "6cd22dec-1985-476d-b337-0b4328ecbd28",
   "metadata": {},
   "outputs": [],
   "source": [
    "###Arthemetic Operation"
   ]
  },
  {
   "cell_type": "code",
   "execution_count": 35,
   "id": "b17928c3-bac5-4329-b2a7-2ff894ed2264",
   "metadata": {},
   "outputs": [
    {
     "data": {
      "text/plain": [
       "array([[ 5, 10, 14],\n",
       "       [10,  7, 18]])"
      ]
     },
     "execution_count": 35,
     "metadata": {},
     "output_type": "execute_result"
    }
   ],
   "source": [
    "a+b"
   ]
  },
  {
   "cell_type": "code",
   "execution_count": 36,
   "id": "47b766b7-d801-4d86-af84-cdffc9bce83b",
   "metadata": {},
   "outputs": [
    {
     "data": {
      "text/plain": [
       "array([[ 5, 10, 14],\n",
       "       [10,  7, 18]])"
      ]
     },
     "execution_count": 36,
     "metadata": {},
     "output_type": "execute_result"
    }
   ],
   "source": [
    "np.add(a,b)"
   ]
  },
  {
   "cell_type": "code",
   "execution_count": 37,
   "id": "e87b0d2a-374b-444d-af86-9600fa272766",
   "metadata": {},
   "outputs": [
    {
     "data": {
      "text/plain": [
       "array([[ 3,  0, -2],\n",
       "       [ 0,  7,  0]])"
      ]
     },
     "execution_count": 37,
     "metadata": {},
     "output_type": "execute_result"
    }
   ],
   "source": [
    "a-b"
   ]
  },
  {
   "cell_type": "code",
   "execution_count": 38,
   "id": "0f636e86-7d1a-43bb-ab55-f191ad841d16",
   "metadata": {},
   "outputs": [
    {
     "data": {
      "text/plain": [
       "array([[ 3,  0, -2],\n",
       "       [ 0,  7,  0]])"
      ]
     },
     "execution_count": 38,
     "metadata": {},
     "output_type": "execute_result"
    }
   ],
   "source": [
    "np.subtract(a,b)"
   ]
  },
  {
   "cell_type": "code",
   "execution_count": 39,
   "id": "30eff2e0-f8e1-4fda-99f4-72faa472a2bf",
   "metadata": {},
   "outputs": [
    {
     "data": {
      "text/plain": [
       "array([[ 4, 25, 48],\n",
       "       [25,  0, 81]])"
      ]
     },
     "execution_count": 39,
     "metadata": {},
     "output_type": "execute_result"
    }
   ],
   "source": [
    "a*b"
   ]
  },
  {
   "cell_type": "code",
   "execution_count": 40,
   "id": "d6be1222-185d-472e-b807-6bdea527eb8c",
   "metadata": {},
   "outputs": [
    {
     "data": {
      "text/plain": [
       "array([[ 4, 25, 48],\n",
       "       [25,  0, 81]])"
      ]
     },
     "execution_count": 40,
     "metadata": {},
     "output_type": "execute_result"
    }
   ],
   "source": [
    "np.multiply(a,b)"
   ]
  },
  {
   "cell_type": "code",
   "execution_count": 41,
   "id": "3edb6916-afe5-4c2d-8702-28818083e2a0",
   "metadata": {},
   "outputs": [
    {
     "data": {
      "text/plain": [
       "array([[16, 25, 36],\n",
       "       [25, 49, 81]])"
      ]
     },
     "execution_count": 41,
     "metadata": {},
     "output_type": "execute_result"
    }
   ],
   "source": [
    "a**2"
   ]
  },
  {
   "cell_type": "code",
   "execution_count": 42,
   "id": "702d4a90-e7cc-4a09-b140-3999efc3ad3d",
   "metadata": {},
   "outputs": [
    {
     "data": {
      "text/plain": [
       "array([[16, 25, 36],\n",
       "       [25, 49, 81]])"
      ]
     },
     "execution_count": 42,
     "metadata": {},
     "output_type": "execute_result"
    }
   ],
   "source": [
    "np.power(a,2)"
   ]
  },
  {
   "cell_type": "code",
   "execution_count": 44,
   "id": "c618b4f0-0e6c-44ee-94bd-88f38234a59e",
   "metadata": {},
   "outputs": [
    {
     "data": {
      "text/plain": [
       "array([[16, 25, 36],\n",
       "       [25, 49, 81]])"
      ]
     },
     "execution_count": 44,
     "metadata": {},
     "output_type": "execute_result"
    }
   ],
   "source": [
    "np.square(a)"
   ]
  },
  {
   "cell_type": "code",
   "execution_count": 46,
   "id": "48b86269-9431-4f6d-b4b9-41eebc07cfc8",
   "metadata": {},
   "outputs": [
    {
     "data": {
      "text/plain": [
       "array([[0, 0, 6],\n",
       "       [0, 0, 0]])"
      ]
     },
     "execution_count": 46,
     "metadata": {},
     "output_type": "execute_result"
    }
   ],
   "source": [
    "a%b"
   ]
  },
  {
   "cell_type": "code",
   "execution_count": 49,
   "id": "92562cf5-df05-4581-935f-d834fa61115f",
   "metadata": {},
   "outputs": [
    {
     "data": {
      "text/plain": [
       "(array([[4, 1, 0],\n",
       "        [1, 7, 1]]),\n",
       " array([[0, 0, 6],\n",
       "        [0, 0, 0]]))"
      ]
     },
     "execution_count": 49,
     "metadata": {},
     "output_type": "execute_result"
    }
   ],
   "source": [
    "np.divmod(a,b) # returns 2 array auta quotent ani arko vaneko reminder"
   ]
  },
  {
   "cell_type": "code",
   "execution_count": 50,
   "id": "28afb917-25ae-45b7-a887-c9d692ccc71b",
   "metadata": {},
   "outputs": [
    {
     "data": {
      "text/plain": [
       "array([[2.        , 2.23606798, 2.44948974],\n",
       "       [2.23606798, 2.64575131, 3.        ]])"
      ]
     },
     "execution_count": 50,
     "metadata": {},
     "output_type": "execute_result"
    }
   ],
   "source": [
    "np.sqrt(a)"
   ]
  },
  {
   "cell_type": "code",
   "execution_count": 51,
   "id": "1b63aa95-fd02-42c3-bf7a-53b3a30fd49a",
   "metadata": {},
   "outputs": [
    {
     "data": {
      "text/plain": [
       "array([[1.        , 2.23606798, 2.82842712],\n",
       "       [2.23606798, 1.        , 3.        ]])"
      ]
     },
     "execution_count": 51,
     "metadata": {},
     "output_type": "execute_result"
    }
   ],
   "source": [
    "np.sqrt(b)"
   ]
  },
  {
   "cell_type": "code",
   "execution_count": 52,
   "id": "cc6a1d97-3351-4f9f-aed7-9c80fd864b72",
   "metadata": {},
   "outputs": [
    {
     "data": {
      "text/plain": [
       "array([[4, 5, 6],\n",
       "       [5, 7, 9]])"
      ]
     },
     "execution_count": 52,
     "metadata": {},
     "output_type": "execute_result"
    }
   ],
   "source": [
    "np.ceil(a)"
   ]
  },
  {
   "cell_type": "code",
   "execution_count": 53,
   "id": "9a43b5ed-f3e0-4a7b-8700-6e33bd817771",
   "metadata": {},
   "outputs": [
    {
     "data": {
      "text/plain": [
       "array([[4, 5, 6],\n",
       "       [5, 7, 9]])"
      ]
     },
     "execution_count": 53,
     "metadata": {},
     "output_type": "execute_result"
    }
   ],
   "source": [
    "np.floor(a)"
   ]
  },
  {
   "cell_type": "code",
   "execution_count": 55,
   "id": "8d197029-9d67-44ec-b049-9a09da8c28da",
   "metadata": {},
   "outputs": [
    {
     "data": {
      "text/plain": [
       "array([[4., 1., 1.],\n",
       "       [1., 7., 1.]])"
      ]
     },
     "execution_count": 55,
     "metadata": {},
     "output_type": "execute_result"
    }
   ],
   "source": [
    "np.ceil(ab)"
   ]
  },
  {
   "cell_type": "code",
   "execution_count": 56,
   "id": "fd076e2c-1e05-40ff-baca-319e98bc620d",
   "metadata": {},
   "outputs": [],
   "source": [
    "new = 1/np.tan(b)"
   ]
  },
  {
   "cell_type": "code",
   "execution_count": 57,
   "id": "9ae5bc6d-a76e-400d-9dae-4968ceafbfdd",
   "metadata": {},
   "outputs": [
    {
     "data": {
      "text/plain": [
       "array([[ 0.64209262, -0.29581292, -0.14706506],\n",
       "       [-0.29581292,  0.64209262, -2.21084541]])"
      ]
     },
     "execution_count": 57,
     "metadata": {},
     "output_type": "execute_result"
    }
   ],
   "source": [
    "new"
   ]
  },
  {
   "cell_type": "code",
   "execution_count": 58,
   "id": "7c070609-a067-4a5f-bd4d-70530351383a",
   "metadata": {},
   "outputs": [
    {
     "data": {
      "text/plain": [
       "array([[ 0.64, -0.3 , -0.15],\n",
       "       [-0.3 ,  0.64, -2.21]])"
      ]
     },
     "execution_count": 58,
     "metadata": {},
     "output_type": "execute_result"
    }
   ],
   "source": [
    "np.round(new,decimals=2)"
   ]
  },
  {
   "cell_type": "code",
   "execution_count": 60,
   "id": "3ef5b055-8a01-4be2-88bc-d91ab0f96682",
   "metadata": {},
   "outputs": [
    {
     "data": {
      "text/plain": [
       "array([[ 0., -0., -0.],\n",
       "       [-0.,  0., -2.]])"
      ]
     },
     "execution_count": 60,
     "metadata": {},
     "output_type": "execute_result"
    }
   ],
   "source": [
    "np.fix(new) ## towards 0 tira move vairaxa "
   ]
  },
  {
   "cell_type": "code",
   "execution_count": 61,
   "id": "547885d1-08bd-45cc-a5b0-509362f60bb9",
   "metadata": {},
   "outputs": [],
   "source": [
    "c=new"
   ]
  },
  {
   "cell_type": "code",
   "execution_count": 62,
   "id": "410e5907-28f8-4354-904c-13dd24c1c2bb",
   "metadata": {},
   "outputs": [
    {
     "data": {
      "text/plain": [
       "array([[ 0.64209262, -0.29581292, -0.14706506],\n",
       "       [-0.29581292,  0.64209262, -2.21084541]])"
      ]
     },
     "execution_count": 62,
     "metadata": {},
     "output_type": "execute_result"
    }
   ],
   "source": [
    "c"
   ]
  },
  {
   "cell_type": "code",
   "execution_count": 66,
   "id": "212dcacd-4f72-4627-baab-097229532a65",
   "metadata": {},
   "outputs": [
    {
     "data": {
      "text/plain": [
       "array([[ 0,  0,  0],\n",
       "       [ 0,  0, -2]])"
      ]
     },
     "execution_count": 66,
     "metadata": {},
     "output_type": "execute_result"
    }
   ],
   "source": [
    "np.int64(c)"
   ]
  },
  {
   "cell_type": "code",
   "execution_count": 67,
   "id": "964ae6f4-7718-48b9-9274-d8468cecadc6",
   "metadata": {},
   "outputs": [
    {
     "data": {
      "text/plain": [
       "array([[ 0., -1., -1.],\n",
       "       [-1.,  0., -3.]])"
      ]
     },
     "execution_count": 67,
     "metadata": {},
     "output_type": "execute_result"
    }
   ],
   "source": [
    "np.floor(new)"
   ]
  },
  {
   "cell_type": "code",
   "execution_count": null,
   "id": "084021e9-079a-4df9-a867-ac42b6d1fa13",
   "metadata": {},
   "outputs": [],
   "source": []
  }
 ],
 "metadata": {
  "kernelspec": {
   "display_name": "Python 3 (ipykernel)",
   "language": "python",
   "name": "python3"
  },
  "language_info": {
   "codemirror_mode": {
    "name": "ipython",
    "version": 3
   },
   "file_extension": ".py",
   "mimetype": "text/x-python",
   "name": "python",
   "nbconvert_exporter": "python",
   "pygments_lexer": "ipython3",
   "version": "3.13.3"
  }
 },
 "nbformat": 4,
 "nbformat_minor": 5
}
