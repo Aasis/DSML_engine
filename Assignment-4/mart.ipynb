{
 "cells": [
  {
   "cell_type": "code",
   "execution_count": 15,
   "id": "78d4ade6-cc40-4733-8c6d-21c1b5680280",
   "metadata": {},
   "outputs": [],
   "source": [
    "class premiumMember:\n",
    "    memberlist={\n",
    "        \"Aashish Parajuli\": 1099,\n",
    "        \"Sujal Karki\": 1098,\n",
    "        \"Sailesh Adhikari\": 1097,\n",
    "        \"Sameer Bhattarai\": 1096,\n",
    "        \"Bikash Shrestha\": 1095,\n",
    "        \"Aayam Singh \": 1094,\n",
    "        \"Mahendra Rana\": 1093,\n",
    "        \"Nitesh Timsina\": 1092,\n",
    "        \"Rohit Kshetri\": 1091,\n",
    "        \"Prakash Khadka\": 1090,\n",
    "        \"Aarya Thapa\": 1089,\n",
    "        \"Rujan Shrestha\": 1088,\n",
    "        \"Preeti M\": 1087,\n",
    "        \"Manchan rana M\": 1086,\n",
    "        \"Dinesh S\": 1085\n",
    "    }\n",
    "    def __init__(self,name,member):\n",
    "        self.name = name\n",
    "        self.member = member\n",
    "\n",
    "    def checking(self):\n",
    "        if self.name in self.memberlist:\n",
    "            a = 1\n",
    "            print(\"Key exist\")\n",
    "            \n",
    "        else:\n",
    "            a=0\n",
    "            print(\"key doesnt exist\")\n",
    "        return a\n",
    "    \n",
    "        \n",
    "        \n",
    "class member(premiumMember):\n",
    "    def __init__(self,name,member,discount=0):\n",
    "        super().__init__(name,member)\n",
    "        self.discount = discount\n",
    "\n",
    "# for now i will be reading from a dictionary for premium membership \n",
    "    def check_premium(self):\n",
    "        \n",
    "        a= premiumMember.checking(self)\n",
    "        print(a)\n",
    "        if a == 1:\n",
    "            self.discount = 10\n",
    "            return \"Verified Premium membership\"\n",
    "            \n",
    "        else :\n",
    "            return \"Not a premium Memebership\"\n",
    "\n",
    "    def adding(self):\n",
    "        print(\"adding function is called\")\n",
    "        self.memberlist[self.name] = self.member\n",
    "        \n",
    "\n",
    "      \n",
    "        "
   ]
  },
  {
   "cell_type": "code",
   "execution_count": 6,
   "id": "09ad776e-dc0d-442c-b098-9979c9838afc",
   "metadata": {},
   "outputs": [
    {
     "name": "stdout",
     "output_type": "stream",
     "text": [
      "Key exist\n",
      "1\n"
     ]
    },
    {
     "data": {
      "text/plain": [
       "'Verified Premium membership'"
      ]
     },
     "execution_count": 6,
     "metadata": {},
     "output_type": "execute_result"
    }
   ],
   "source": [
    "m = member(\"Aashish Parajuli\",1099)\n",
    "m.check_premium()"
   ]
  },
  {
   "cell_type": "code",
   "execution_count": 16,
   "id": "95cb6c44-c39c-46f9-8dd9-6a9ea885f9d0",
   "metadata": {},
   "outputs": [
    {
     "name": "stdout",
     "output_type": "stream",
     "text": [
      "key doesnt exist\n",
      "0\n"
     ]
    },
    {
     "data": {
      "text/plain": [
       "'Not a premium Memebership'"
      ]
     },
     "execution_count": 16,
     "metadata": {},
     "output_type": "execute_result"
    }
   ],
   "source": [
    "m1 = member(\"Aayush Niraula\", 1100)\n",
    "m1.check_premium()"
   ]
  },
  {
   "cell_type": "code",
   "execution_count": 17,
   "id": "a3c7e1aa-9d46-4f57-bd6d-84a8dc470d29",
   "metadata": {},
   "outputs": [
    {
     "name": "stdin",
     "output_type": "stream",
     "text": [
      "Do you want to take premium Memebership to get 10% discount yes\n"
     ]
    },
    {
     "name": "stdout",
     "output_type": "stream",
     "text": [
      "adding function is called\n"
     ]
    }
   ],
   "source": [
    "taking=input(\"Do you want to take premium Memebership to get 10% discount\")\n",
    "if taking.lower() == \"yes\":\n",
    "    m1.adding()"
   ]
  },
  {
   "cell_type": "code",
   "execution_count": 18,
   "id": "845a7b91-a2b7-4408-b63f-dbff4c3c064f",
   "metadata": {},
   "outputs": [
    {
     "name": "stdout",
     "output_type": "stream",
     "text": [
      "Key exist\n",
      "1\n"
     ]
    },
    {
     "data": {
      "text/plain": [
       "'Verified Premium membership'"
      ]
     },
     "execution_count": 18,
     "metadata": {},
     "output_type": "execute_result"
    }
   ],
   "source": [
    "#checking to verify is it is added or not \n",
    "m1.check_premium()"
   ]
  },
  {
   "cell_type": "code",
   "execution_count": 19,
   "id": "86717c86-7cb0-44d5-b307-de9bd9b1e4ee",
   "metadata": {},
   "outputs": [
    {
     "data": {
      "text/plain": [
       "10"
      ]
     },
     "execution_count": 19,
     "metadata": {},
     "output_type": "execute_result"
    }
   ],
   "source": [
    "m1.discount"
   ]
  },
  {
   "cell_type": "code",
   "execution_count": null,
   "id": "3aa1e3ec-6696-460d-a857-b96d0fb83755",
   "metadata": {},
   "outputs": [],
   "source": [
    "m1.me"
   ]
  }
 ],
 "metadata": {
  "kernelspec": {
   "display_name": "Python 3 (ipykernel)",
   "language": "python",
   "name": "python3"
  },
  "language_info": {
   "codemirror_mode": {
    "name": "ipython",
    "version": 3
   },
   "file_extension": ".py",
   "mimetype": "text/x-python",
   "name": "python",
   "nbconvert_exporter": "python",
   "pygments_lexer": "ipython3",
   "version": "3.13.3"
  }
 },
 "nbformat": 4,
 "nbformat_minor": 5
}
