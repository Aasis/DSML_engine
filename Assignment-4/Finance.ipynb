{
 "cells": [
  {
   "cell_type": "code",
   "execution_count": 1,
   "id": "9c2613f1-0b2b-4230-b1ab-99ec5f372b09",
   "metadata": {},
   "outputs": [],
   "source": [
    "from Assignment4.Finance_app import loan_amount,r,check_taxable_amount"
   ]
  },
  {
   "cell_type": "code",
   "execution_count": 2,
   "id": "fb039f4f-9f22-4927-a981-2c9cbf3de1ea",
   "metadata": {},
   "outputs": [
    {
     "name": "stdout",
     "output_type": "stream",
     "text": [
      "The Remaining Loan Amount is200000\n",
      "This month Interest rate is 0.071 % and your Interest amount is 14199.999999999998\n",
      "14199.999999999998\n"
     ]
    },
    {
     "name": "stdin",
     "output_type": "stream",
     "text": [
      "Enter how much principle amount you want to pay this month 25000\n"
     ]
    },
    {
     "name": "stdout",
     "output_type": "stream",
     "text": [
      "The Remaining Loan Amount is160800.0\n",
      "Your Taxable amount is 0\n",
      "Your salary after deducting both tax and loan emi is 10800.0\n"
     ]
    }
   ],
   "source": [
    "loam=loan_amount(200000)\n",
    "loam.display_loan_amount()\n",
    "a = loam.get_fix_rate()\n",
    "a\n",
    "interest=loam.display_interest_amount(a) # fix garnu xa \n",
    "print(interest)\n",
    "principle_amount = float(input(\"Enter how much principle amount you want to pay this month\"))\n",
    "emi=principle_amount+interest\n",
    "loam.update_loan_amoount(emi)\n",
    "loam.display_loan_amount()\n",
    "salary= 50000\n",
    "salary = salary - emi\n",
    "salary\n",
    "get_tax_amount= check_taxable_amount(salary)\n",
    "print(f\"Your Taxable amount is {get_tax_amount}\")\n",
    "print(f\"Your salary after deducting both tax and loan emi is {salary-get_tax_amount}\") \n",
    "    "
   ]
  },
  {
   "cell_type": "code",
   "execution_count": null,
   "id": "da5efb92-e9d6-49ee-97e2-6f93873ff4b9",
   "metadata": {},
   "outputs": [],
   "source": []
  }
 ],
 "metadata": {
  "kernelspec": {
   "display_name": "Python 3 (ipykernel)",
   "language": "python",
   "name": "python3"
  },
  "language_info": {
   "codemirror_mode": {
    "name": "ipython",
    "version": 3
   },
   "file_extension": ".py",
   "mimetype": "text/x-python",
   "name": "python",
   "nbconvert_exporter": "python",
   "pygments_lexer": "ipython3",
   "version": "3.13.3"
  }
 },
 "nbformat": 4,
 "nbformat_minor": 5
}
