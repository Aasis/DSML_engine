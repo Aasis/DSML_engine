{
 "cells": [
  {
   "cell_type": "code",
   "execution_count": 2,
   "id": "e7a40e4f-6683-4172-9290-5f64f2f750f1",
   "metadata": {},
   "outputs": [],
   "source": [
    "class UnderageError(Exception):\n",
    "    pass\n"
   ]
  },
  {
   "cell_type": "code",
   "execution_count": 9,
   "id": "b24bc718-a662-4d79-87fe-d2b19c02bbb4",
   "metadata": {},
   "outputs": [],
   "source": [
    "def register_user():\n",
    "    name = input(\"Enter your name \")\n",
    "    age = int(input(\"Enter your age \"))\n",
    "    if not isinstance(age,(int)):\n",
    "        raise ValueError(\"Please enter numbers\")\n",
    "    if age < 18:\n",
    "        raise UnderageError(\"You must be 18 + to watch this movie \")\n",
    "\n",
    "    print(\"Thank you for joining today show \")"
   ]
  },
  {
   "cell_type": "code",
   "execution_count": 10,
   "id": "4659c920-7003-4128-a534-7d994909fb4d",
   "metadata": {},
   "outputs": [
    {
     "name": "stdin",
     "output_type": "stream",
     "text": [
      "Enter your name  Aashish Parajuli\n",
      "Enter your age  18\n"
     ]
    },
    {
     "name": "stdout",
     "output_type": "stream",
     "text": [
      "Thank you for joining today show \n",
      "Sucessfull Registration\n",
      "Thank you for using Movie Time !\n"
     ]
    }
   ],
   "source": [
    "try:\n",
    "    register_user()\n",
    "except UnderageError as e :\n",
    "    print(f\"Registration fail : {e}\")\n",
    "except ValueError as v:\n",
    "    print(f\"Invalid input :{v}\")\n",
    "else:\n",
    "    print(\"Sucessfull Registration\")\n",
    "finally:\n",
    "    print(\"Thank you for using Movie Time !\")"
   ]
  },
  {
   "cell_type": "code",
   "execution_count": null,
   "id": "da866f98-9877-4e0a-8acc-2f6b00bee618",
   "metadata": {},
   "outputs": [],
   "source": []
  }
 ],
 "metadata": {
  "kernelspec": {
   "display_name": "Python 3 (ipykernel)",
   "language": "python",
   "name": "python3"
  },
  "language_info": {
   "codemirror_mode": {
    "name": "ipython",
    "version": 3
   },
   "file_extension": ".py",
   "mimetype": "text/x-python",
   "name": "python",
   "nbconvert_exporter": "python",
   "pygments_lexer": "ipython3",
   "version": "3.13.3"
  }
 },
 "nbformat": 4,
 "nbformat_minor": 5
}
