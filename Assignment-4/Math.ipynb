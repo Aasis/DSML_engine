{
 "cells": [
  {
   "cell_type": "code",
   "execution_count": 1,
   "id": "08349051-8534-4fae-a89b-9dcfdc5c7769",
   "metadata": {},
   "outputs": [],
   "source": [
    "from Assignment4.MathTutor import qnpaper_generator,qn_display,r,time,asking_qqn,timmer"
   ]
  },
  {
   "cell_type": "code",
   "execution_count": 5,
   "id": "d757b1cf-efde-4f21-bd73-1d930f5aa8ba",
   "metadata": {},
   "outputs": [
    {
     "name": "stdout",
     "output_type": "stream",
     "text": [
      "I have generate a new question for you\n",
      "20<4\n",
      "Your times starts now\n",
      " cleanning window \n",
      "Your time is up\n"
     ]
    }
   ],
   "source": [
    "c = asking_qqn()"
   ]
  },
  {
   "cell_type": "code",
   "execution_count": 6,
   "id": "c83e3909-a666-46b1-af30-3b2137feff73",
   "metadata": {},
   "outputs": [
    {
     "name": "stdin",
     "output_type": "stream",
     "text": [
      "Type your ans (if comparion is done give type either 1 for true and 0 for  false ) =  0\n"
     ]
    },
    {
     "name": "stdout",
     "output_type": "stream",
     "text": [
      "valid input\n",
      "correct\n"
     ]
    }
   ],
   "source": [
    "b=take_input()\n",
    "\n",
    "result_compare(c,b)"
   ]
  },
  {
   "cell_type": "code",
   "execution_count": 3,
   "id": "7848a4d7-c638-454d-b40f-a08d0dfcf0b9",
   "metadata": {},
   "outputs": [],
   "source": [
    "from Assignment4.MathTutor import result_compare,take_input,take_input_check"
   ]
  },
  {
   "cell_type": "code",
   "execution_count": null,
   "id": "d957711d-f7d8-4ed4-aac0-6eb3b9165bd4",
   "metadata": {},
   "outputs": [],
   "source": [
    "# aba loop start garera count garne ani display garne \n"
   ]
  }
 ],
 "metadata": {
  "kernelspec": {
   "display_name": "Python 3 (ipykernel)",
   "language": "python",
   "name": "python3"
  },
  "language_info": {
   "codemirror_mode": {
    "name": "ipython",
    "version": 3
   },
   "file_extension": ".py",
   "mimetype": "text/x-python",
   "name": "python",
   "nbconvert_exporter": "python",
   "pygments_lexer": "ipython3",
   "version": "3.13.3"
  }
 },
 "nbformat": 4,
 "nbformat_minor": 5
}
