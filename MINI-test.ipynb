{
 "cells": [
  {
   "cell_type": "markdown",
   "id": "7162ccda-aea3-47e8-913a-bd43658cda57",
   "metadata": {},
   "source": [
    "### Q1"
   ]
  },
  {
   "cell_type": "code",
   "execution_count": 53,
   "id": "13ca9f5d-6065-40a6-8550-0d00dd63af38",
   "metadata": {},
   "outputs": [
    {
     "name": "stdout",
     "output_type": "stream",
     "text": [
      "[2, 4, 6, 78, 10]\n"
     ]
    }
   ],
   "source": [
    "def Filter_even_numbers(nums):\n",
    "    a=[]\n",
    "    \n",
    "    a = [i  for i in nums if i%2 == 0 ]\n",
    "            \n",
    "    return a        \n",
    "num=[1,2,3,4,5,6,78,9,10]\n",
    "print(Filter_even_numbers(num))\n",
    "\n",
    "        "
   ]
  },
  {
   "cell_type": "markdown",
   "id": "aa211cbf-5462-491c-8815-48203c99c905",
   "metadata": {},
   "source": [
    "### Q2"
   ]
  },
  {
   "cell_type": "code",
   "execution_count": 37,
   "id": "4a11949c-2232-48b3-8ad5-f8dea00ae9b3",
   "metadata": {},
   "outputs": [
    {
     "name": "stdout",
     "output_type": "stream",
     "text": [
      "{'a': 3, 'e': 0, 'i': 4, 'o': 0, 'u': 0}\n"
     ]
    }
   ],
   "source": [
    "def count_vowels(sentence):\n",
    "    a={\n",
    "        \"a\":0,\n",
    "        \"e\":0,\n",
    "        \"i\":0,\n",
    "        \"o\":0,\n",
    "        \"u\":0\n",
    "      }\n",
    "    vowel=[\"a\",\"e\",\"i\",\"o\",\"u\"]\n",
    "    for b in sentence:\n",
    "        if b.lower() in vowel:\n",
    "            a[b] +=1 \n",
    "            \n",
    "        else:\n",
    "            continue\n",
    "    return a \n",
    "word=\"Skill Shikshya is amazing\"\n",
    "print(count_vowels(word))"
   ]
  },
  {
   "cell_type": "markdown",
   "id": "0a60913f-3216-498f-b572-a8f6ab98a44d",
   "metadata": {},
   "source": [
    "### Q3"
   ]
  },
  {
   "cell_type": "code",
   "execution_count": 95,
   "id": "0631ec2f-b9ef-4862-ba0a-bd4901904ab5",
   "metadata": {},
   "outputs": [
    {
     "name": "stdout",
     "output_type": "stream",
     "text": [
      "Insufficient balance\n"
     ]
    }
   ],
   "source": [
    "class BankAccount:\n",
    "    def __init__(self,balance):\n",
    "        self.balance=balance\n",
    "\n",
    "    def deposite(self,amount):\n",
    "        self.balance+=amount\n",
    "\n",
    "    def withdraw(self,amount):\n",
    "        try:\n",
    "            if self.balance>=amount:\n",
    "                self.balance-=amount\n",
    "            else:\n",
    "                raise ValueError\n",
    "        except ValueError:\n",
    "            print(\"Insufficient balance\")\n",
    "        \n",
    "B=BankAccount(500)\n",
    "B.withdraw(800)\n"
   ]
  },
  {
   "cell_type": "markdown",
   "id": "d44ae285-b420-4a42-aaf8-d28a119ee002",
   "metadata": {},
   "source": [
    "### Q4 "
   ]
  },
  {
   "cell_type": "code",
   "execution_count": 89,
   "id": "12743d4e-e7ee-4ef6-ae8d-f0987df158d8",
   "metadata": {},
   "outputs": [
    {
     "data": {
      "text/plain": [
       "20"
      ]
     },
     "execution_count": 89,
     "metadata": {},
     "output_type": "execute_result"
    }
   ],
   "source": [
    "def custom_sum(*args,**kwargs):\n",
    "    value = kwargs.get(\"double\",False)\n",
    "    if value:\n",
    "        return sum(args)*2\n",
    "    return sum(args)\n",
    "\n",
    "custom_sum(1,2,3,4, double=True)"
   ]
  },
  {
   "cell_type": "code",
   "execution_count": null,
   "id": "f7918f81-7f85-4c62-8775-b21f0f5eddf3",
   "metadata": {},
   "outputs": [],
   "source": []
  },
  {
   "cell_type": "code",
   "execution_count": null,
   "id": "e34f9ae2-8aa5-42cd-a090-94d49c5add03",
   "metadata": {},
   "outputs": [],
   "source": []
  }
 ],
 "metadata": {
  "kernelspec": {
   "display_name": "Python 3 (ipykernel)",
   "language": "python",
   "name": "python3"
  },
  "language_info": {
   "codemirror_mode": {
    "name": "ipython",
    "version": 3
   },
   "file_extension": ".py",
   "mimetype": "text/x-python",
   "name": "python",
   "nbconvert_exporter": "python",
   "pygments_lexer": "ipython3",
   "version": "3.13.3"
  }
 },
 "nbformat": 4,
 "nbformat_minor": 5
}
