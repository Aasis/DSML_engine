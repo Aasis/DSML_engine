{
 "cells": [
  {
   "cell_type": "code",
   "execution_count": 1,
   "id": "6a137029-6eca-43b9-8500-f39104de8f6b",
   "metadata": {},
   "outputs": [],
   "source": [
    "import numpy as np"
   ]
  },
  {
   "cell_type": "markdown",
   "id": "ec71b4da-645d-4eb1-acd8-d6b44a5bd31a",
   "metadata": {},
   "source": [
    "### numpy"
   ]
  },
  {
   "cell_type": "markdown",
   "id": "cf4b04c6-4d45-447b-8d62-7cba349a3d99",
   "metadata": {},
   "source": [
    " ### Accessing "
   ]
  },
  {
   "cell_type": "code",
   "execution_count": 3,
   "id": "25dfc2cc-bed8-45dc-aa2a-7169a46ca4c3",
   "metadata": {},
   "outputs": [],
   "source": [
    "a = np.array([1,2,3,4,5])"
   ]
  },
  {
   "cell_type": "code",
   "execution_count": 4,
   "id": "20e35319-9c77-4de6-a6f0-d07501e227bc",
   "metadata": {},
   "outputs": [
    {
     "data": {
      "text/plain": [
       "1"
      ]
     },
     "execution_count": 4,
     "metadata": {},
     "output_type": "execute_result"
    }
   ],
   "source": [
    "a.ndim"
   ]
  },
  {
   "cell_type": "code",
   "execution_count": 5,
   "id": "af1b144b-7636-4783-adf1-5ac1a286dc36",
   "metadata": {},
   "outputs": [
    {
     "data": {
      "text/plain": [
       "np.int64(5)"
      ]
     },
     "execution_count": 5,
     "metadata": {},
     "output_type": "execute_result"
    }
   ],
   "source": [
    "a[4]"
   ]
  },
  {
   "cell_type": "code",
   "execution_count": 6,
   "id": "d4c58b8d-82f8-4c13-b421-f3ae22713750",
   "metadata": {},
   "outputs": [
    {
     "data": {
      "text/plain": [
       "np.int64(3)"
      ]
     },
     "execution_count": 6,
     "metadata": {},
     "output_type": "execute_result"
    }
   ],
   "source": [
    "a[-3]"
   ]
  },
  {
   "cell_type": "code",
   "execution_count": 7,
   "id": "6d09ced3-2694-43e9-9f1f-cfc5cce5d21d",
   "metadata": {},
   "outputs": [
    {
     "data": {
      "text/plain": [
       "array([1, 3])"
      ]
     },
     "execution_count": 7,
     "metadata": {},
     "output_type": "execute_result"
    }
   ],
   "source": [
    "a[0:4:2]"
   ]
  },
  {
   "cell_type": "code",
   "execution_count": 8,
   "id": "7e8172f7-357a-4184-8646-47ed093c10bf",
   "metadata": {},
   "outputs": [
    {
     "data": {
      "text/plain": [
       "array([5, 4, 3, 2, 1])"
      ]
     },
     "execution_count": 8,
     "metadata": {},
     "output_type": "execute_result"
    }
   ],
   "source": [
    "a[::-1]\n"
   ]
  },
  {
   "cell_type": "code",
   "execution_count": 9,
   "id": "33636975-9323-4d7f-b9a7-c5671f30495c",
   "metadata": {},
   "outputs": [],
   "source": []
  },
  {
   "cell_type": "code",
   "execution_count": 10,
   "id": "3e1030b9-b51d-4a67-bb18-276597bff141",
   "metadata": {},
   "outputs": [
    {
     "data": {
      "text/plain": [
       "array([[3, 5, 0],\n",
       "       [7, 8, 9],\n",
       "       [1, 2, 3]], dtype=int32)"
      ]
     },
     "execution_count": 10,
     "metadata": {},
     "output_type": "execute_result"
    }
   ],
   "source": [
    "b"
   ]
  },
  {
   "cell_type": "code",
   "execution_count": 11,
   "id": "befb99fa-9ea6-4b72-8502-eb1fa9ba5678",
   "metadata": {},
   "outputs": [
    {
     "data": {
      "text/plain": [
       "np.int32(5)"
      ]
     },
     "execution_count": 11,
     "metadata": {},
     "output_type": "execute_result"
    }
   ],
   "source": [
    "b[0][1]"
   ]
  },
  {
   "cell_type": "code",
   "execution_count": 13,
   "id": "20b07cb8-12e9-4dc9-bec2-20cef7d8a0a2",
   "metadata": {},
   "outputs": [
    {
     "data": {
      "text/plain": [
       "np.int32(3)"
      ]
     },
     "execution_count": 13,
     "metadata": {},
     "output_type": "execute_result"
    }
   ],
   "source": [
    "b[2,2]"
   ]
  },
  {
   "cell_type": "code",
   "execution_count": 14,
   "id": "4339a6a2-59ce-4f02-b333-a6ead9e512b1",
   "metadata": {},
   "outputs": [
    {
     "data": {
      "text/plain": [
       "np.int32(1)"
      ]
     },
     "execution_count": 14,
     "metadata": {},
     "output_type": "execute_result"
    }
   ],
   "source": [
    "b[-1][0]"
   ]
  },
  {
   "cell_type": "code",
   "execution_count": 15,
   "id": "1bd7dbdd-e370-41b9-a964-21569616c11a",
   "metadata": {},
   "outputs": [
    {
     "data": {
      "text/plain": [
       "np.int32(8)"
      ]
     },
     "execution_count": 15,
     "metadata": {},
     "output_type": "execute_result"
    }
   ],
   "source": [
    "b[-2][-2]"
   ]
  },
  {
   "cell_type": "code",
   "execution_count": 16,
   "id": "5667c6b7-cc55-4f41-86ea-2fa5b1892e8b",
   "metadata": {},
   "outputs": [
    {
     "data": {
      "text/plain": [
       "np.int32(8)"
      ]
     },
     "execution_count": 16,
     "metadata": {},
     "output_type": "execute_result"
    }
   ],
   "source": [
    "b[-2,-2]"
   ]
  },
  {
   "cell_type": "code",
   "execution_count": 17,
   "id": "b74cc6b6-3437-41ff-b7c3-64953e190022",
   "metadata": {},
   "outputs": [
    {
     "data": {
      "text/plain": [
       "np.int32(3)"
      ]
     },
     "execution_count": 17,
     "metadata": {},
     "output_type": "execute_result"
    }
   ],
   "source": [
    "b[-3][-3]"
   ]
  },
  {
   "cell_type": "code",
   "execution_count": 18,
   "id": "7758c8b2-97a4-4f4c-8c58-6b25f246f08e",
   "metadata": {},
   "outputs": [],
   "source": [
    "# Slicing"
   ]
  },
  {
   "cell_type": "code",
   "execution_count": 19,
   "id": "55c00cf8-3587-4f72-ab1a-e127c614f1ae",
   "metadata": {},
   "outputs": [],
   "source": [
    "# b[row starting : row ending , no of colum ]"
   ]
  },
  {
   "cell_type": "code",
   "execution_count": 20,
   "id": "ba59f629-3f31-4a6c-b0e1-f0a05a52537a",
   "metadata": {},
   "outputs": [
    {
     "data": {
      "text/plain": [
       "array([5, 8, 2], dtype=int32)"
      ]
     },
     "execution_count": 20,
     "metadata": {},
     "output_type": "execute_result"
    }
   ],
   "source": [
    "b[0:3,1]"
   ]
  },
  {
   "cell_type": "code",
   "execution_count": 21,
   "id": "f077207c-eddf-4055-8e1e-8503b21e2dc5",
   "metadata": {},
   "outputs": [
    {
     "data": {
      "text/plain": [
       "array([[3],\n",
       "       [7],\n",
       "       [1]], dtype=int32)"
      ]
     },
     "execution_count": 21,
     "metadata": {},
     "output_type": "execute_result"
    }
   ],
   "source": [
    "b[0:3,:1] # since "
   ]
  },
  {
   "cell_type": "code",
   "execution_count": 22,
   "id": "1f5791d3-90d9-4d99-b922-ddd6a593297b",
   "metadata": {},
   "outputs": [
    {
     "data": {
      "text/plain": [
       "array([7, 8, 9], dtype=int32)"
      ]
     },
     "execution_count": 22,
     "metadata": {},
     "output_type": "execute_result"
    }
   ],
   "source": [
    "b[1]"
   ]
  },
  {
   "cell_type": "code",
   "execution_count": 24,
   "id": "0674377b-10b3-467b-b67b-d00a17a4d07c",
   "metadata": {},
   "outputs": [
    {
     "data": {
      "text/plain": [
       "array([[3, 5, 0]], dtype=int32)"
      ]
     },
     "execution_count": 24,
     "metadata": {},
     "output_type": "execute_result"
    }
   ],
   "source": [
    "b[:1]"
   ]
  },
  {
   "cell_type": "code",
   "execution_count": 25,
   "id": "b055cc7b-13f3-453a-b501-f9dd715c477b",
   "metadata": {},
   "outputs": [
    {
     "data": {
      "text/plain": [
       "array([5, 8, 2], dtype=int32)"
      ]
     },
     "execution_count": 25,
     "metadata": {},
     "output_type": "execute_result"
    }
   ],
   "source": [
    "b[:,1]"
   ]
  },
  {
   "cell_type": "code",
   "execution_count": 26,
   "id": "dc0d26ef-cfd3-4c18-b3a8-348db843e65e",
   "metadata": {},
   "outputs": [],
   "source": [
    "# 3D"
   ]
  },
  {
   "cell_type": "code",
   "execution_count": 27,
   "id": "23b0ce37-02b8-4833-9e5c-9a71ddde84e6",
   "metadata": {},
   "outputs": [],
   "source": [
    "c = np.random.randint(0,99, size=(3,3,3))"
   ]
  },
  {
   "cell_type": "code",
   "execution_count": 28,
   "id": "4c4f612d-72a1-4ead-afed-bd5c559a222e",
   "metadata": {},
   "outputs": [
    {
     "data": {
      "text/plain": [
       "array([[[ 7, 79, 33],\n",
       "        [56, 89, 32],\n",
       "        [38, 76,  0]],\n",
       "\n",
       "       [[58, 23, 39],\n",
       "        [20, 73, 92],\n",
       "        [96, 17, 33]],\n",
       "\n",
       "       [[72, 36, 52],\n",
       "        [54, 84, 56],\n",
       "        [55, 64, 51]]], dtype=int32)"
      ]
     },
     "execution_count": 28,
     "metadata": {},
     "output_type": "execute_result"
    }
   ],
   "source": [
    "c"
   ]
  },
  {
   "cell_type": "code",
   "execution_count": 29,
   "id": "fe1ad3d5-bfbd-4b26-8f8b-f2e6727b1ac5",
   "metadata": {},
   "outputs": [
    {
     "data": {
      "text/plain": [
       "np.int32(0)"
      ]
     },
     "execution_count": 29,
     "metadata": {},
     "output_type": "execute_result"
    }
   ],
   "source": [
    "c[0,2,2]"
   ]
  },
  {
   "cell_type": "code",
   "execution_count": 30,
   "id": "4af4a799-eb09-4eae-b79f-d10bc24cbcb1",
   "metadata": {},
   "outputs": [
    {
     "data": {
      "text/plain": [
       "array([ 0, 33, 51], dtype=int32)"
      ]
     },
     "execution_count": 30,
     "metadata": {},
     "output_type": "execute_result"
    }
   ],
   "source": [
    "c[0:3,2,2]"
   ]
  },
  {
   "cell_type": "code",
   "execution_count": 31,
   "id": "09144c38-725d-473f-989f-adbd1734ce52",
   "metadata": {},
   "outputs": [
    {
     "data": {
      "text/plain": [
       "array([[[ 7, 79],\n",
       "        [56, 89]],\n",
       "\n",
       "       [[58, 23],\n",
       "        [20, 73]],\n",
       "\n",
       "       [[72, 36],\n",
       "        [54, 84]]], dtype=int32)"
      ]
     },
     "execution_count": 31,
     "metadata": {},
     "output_type": "execute_result"
    }
   ],
   "source": [
    "c[0:3,0:2,0:2]"
   ]
  },
  {
   "cell_type": "code",
   "execution_count": 32,
   "id": "fc0f303a-34ce-496e-bd2c-256099921bf2",
   "metadata": {},
   "outputs": [
    {
     "data": {
      "text/plain": [
       "array([[38, 76,  0],\n",
       "       [96, 17, 33],\n",
       "       [55, 64, 51]], dtype=int32)"
      ]
     },
     "execution_count": 32,
     "metadata": {},
     "output_type": "execute_result"
    }
   ],
   "source": [
    "c[0:3,2,:]"
   ]
  },
  {
   "cell_type": "code",
   "execution_count": 33,
   "id": "e957fb80-413d-4578-8482-3a7a059f53a2",
   "metadata": {},
   "outputs": [
    {
     "data": {
      "text/plain": [
       "array([[38, 76,  0],\n",
       "       [96, 17, 33],\n",
       "       [55, 64, 51]], dtype=int32)"
      ]
     },
     "execution_count": 33,
     "metadata": {},
     "output_type": "execute_result"
    }
   ],
   "source": [
    "\n",
    "c[:,2,:]\n"
   ]
  },
  {
   "cell_type": "code",
   "execution_count": 34,
   "id": "9c6af3ec-d8fc-48ff-900a-414e9b204277",
   "metadata": {},
   "outputs": [
    {
     "data": {
      "text/plain": [
       "array([[79, 89, 76],\n",
       "       [23, 73, 17],\n",
       "       [36, 84, 64]], dtype=int32)"
      ]
     },
     "execution_count": 34,
     "metadata": {},
     "output_type": "execute_result"
    }
   ],
   "source": [
    "c[:,:,1]"
   ]
  },
  {
   "cell_type": "code",
   "execution_count": 35,
   "id": "60da9c6a-017e-4825-9b11-6989111fa516",
   "metadata": {},
   "outputs": [],
   "source": [
    "dataset= np.random.randint(0,100,(16000,25))"
   ]
  },
  {
   "cell_type": "code",
   "execution_count": 36,
   "id": "751eaa9e-032a-4fe8-be83-a35c5d34519f",
   "metadata": {},
   "outputs": [
    {
     "data": {
      "text/plain": [
       "array([[56,  4,  9, ..., 66, 53, 15],\n",
       "       [ 9,  0, 41, ..., 16, 91, 26],\n",
       "       [79,  0, 23, ..., 72, 40, 42],\n",
       "       ...,\n",
       "       [ 9, 10, 38, ..., 53, 83, 60],\n",
       "       [97, 81, 92, ..., 50, 19, 69],\n",
       "       [48, 33, 21, ...,  0, 15, 90]], shape=(16000, 25), dtype=int32)"
      ]
     },
     "execution_count": 36,
     "metadata": {},
     "output_type": "execute_result"
    }
   ],
   "source": [
    "dataset"
   ]
  },
  {
   "cell_type": "code",
   "execution_count": 37,
   "id": "eded2222-cde9-4aa2-864d-b7c85f6a2e02",
   "metadata": {},
   "outputs": [
    {
     "data": {
      "text/plain": [
       "array([56,  9, 79, ...,  9, 97, 48], shape=(16000,), dtype=int32)"
      ]
     },
     "execution_count": 37,
     "metadata": {},
     "output_type": "execute_result"
    }
   ],
   "source": [
    "dataset[:,0]"
   ]
  },
  {
   "cell_type": "code",
   "execution_count": 38,
   "id": "822e09c0-3ec3-4f59-b649-4221f39642be",
   "metadata": {},
   "outputs": [
    {
     "data": {
      "text/plain": [
       "array([56,  4,  9, 16, 33, 84, 62, 75, 72, 58, 61, 86, 90, 41, 38, 54, 96,\n",
       "       30, 12, 45, 10, 18, 66, 53, 15], dtype=int32)"
      ]
     },
     "execution_count": 38,
     "metadata": {},
     "output_type": "execute_result"
    }
   ],
   "source": [
    "dataset[0,:] "
   ]
  },
  {
   "cell_type": "code",
   "execution_count": 39,
   "id": "a4092ab9-dc84-4d57-b0b8-f400b2c44086",
   "metadata": {},
   "outputs": [
    {
     "data": {
      "text/plain": [
       "(16000, 25)"
      ]
     },
     "execution_count": 39,
     "metadata": {},
     "output_type": "execute_result"
    }
   ],
   "source": [
    "dataset.shape"
   ]
  },
  {
   "cell_type": "code",
   "execution_count": 41,
   "id": "9218a3c8-f9c5-49fd-af01-0e0a9bcff8af",
   "metadata": {},
   "outputs": [
    {
     "data": {
      "text/plain": [
       "array([0.56, 0.04, 0.09, 0.16, 0.33, 0.84, 0.62, 0.75, 0.72, 0.58, 0.61,\n",
       "       0.86, 0.9 , 0.41, 0.38, 0.54, 0.96, 0.3 , 0.12, 0.45, 0.1 , 0.18,\n",
       "       0.66, 0.53, 0.15])"
      ]
     },
     "execution_count": 41,
     "metadata": {},
     "output_type": "execute_result"
    }
   ],
   "source": [
    "dataset[0,:] /100 # compress garera 0-1  ko bich ma liyera aayeko "
   ]
  },
  {
   "cell_type": "code",
   "execution_count": 42,
   "id": "36b338c2-f1ed-4da4-876a-fd5d502f72d7",
   "metadata": {},
   "outputs": [],
   "source": [
    "# usually sabbai row level mai access vairako xa \n"
   ]
  },
  {
   "cell_type": "markdown",
   "id": "fc5e6f88-6b71-43ef-acb7-2ac329fa54c5",
   "metadata": {},
   "source": [
    "### boolen haru use garera certain kura haru channu paro vane kasari garne ??? masking use garne "
   ]
  },
  {
   "cell_type": "code",
   "execution_count": 45,
   "id": "8e030615-e317-4320-9cb5-496a7fd98819",
   "metadata": {},
   "outputs": [],
   "source": [
    "d = np.random.randint(1,10,(5,5))"
   ]
  },
  {
   "cell_type": "code",
   "execution_count": 46,
   "id": "f3847be4-e527-4582-8d5a-e56537c43e33",
   "metadata": {},
   "outputs": [
    {
     "data": {
      "text/plain": [
       "array([[6, 3, 9, 9, 5],\n",
       "       [2, 9, 1, 8, 1],\n",
       "       [9, 6, 9, 7, 6],\n",
       "       [7, 5, 8, 1, 5],\n",
       "       [1, 3, 5, 7, 8]], dtype=int32)"
      ]
     },
     "execution_count": 46,
     "metadata": {},
     "output_type": "execute_result"
    }
   ],
   "source": [
    "d"
   ]
  },
  {
   "cell_type": "code",
   "execution_count": 49,
   "id": "59f8fb9a-b8c3-4fbf-be0b-3cc276b80afc",
   "metadata": {},
   "outputs": [],
   "source": [
    "mask = d > 5 # conditional satisfaction "
   ]
  },
  {
   "cell_type": "code",
   "execution_count": 50,
   "id": "cef6c482-3836-4e10-9c1e-4cdc84b93e6c",
   "metadata": {},
   "outputs": [
    {
     "data": {
      "text/plain": [
       "array([[ True, False,  True,  True, False],\n",
       "       [False,  True, False,  True, False],\n",
       "       [ True,  True,  True,  True,  True],\n",
       "       [ True, False,  True, False, False],\n",
       "       [False, False, False,  True,  True]])"
      ]
     },
     "execution_count": 50,
     "metadata": {},
     "output_type": "execute_result"
    }
   ],
   "source": [
    "mask"
   ]
  },
  {
   "cell_type": "code",
   "execution_count": 51,
   "id": "c44ded21-c412-4ec2-b24a-62515a436622",
   "metadata": {},
   "outputs": [
    {
     "data": {
      "text/plain": [
       "array([6, 9, 9, 9, 8, 9, 6, 9, 7, 6, 7, 8, 7, 8], dtype=int32)"
      ]
     },
     "execution_count": 51,
     "metadata": {},
     "output_type": "execute_result"
    }
   ],
   "source": [
    "d[mask] # so jun jun true xa teslai matra nikaera single row ma dine vayo "
   ]
  },
  {
   "cell_type": "code",
   "execution_count": 52,
   "id": "59c7e35e-3a72-44e6-aa2c-eb06ea13b79f",
   "metadata": {},
   "outputs": [],
   "source": [
    "# customize mask \n",
    "maskk = [True,False,False,True,True]"
   ]
  },
  {
   "cell_type": "code",
   "execution_count": 53,
   "id": "6f0ff0c8-8845-4bcf-8653-7cc819c4d9d5",
   "metadata": {},
   "outputs": [
    {
     "data": {
      "text/plain": [
       "array([[6, 3, 9, 9, 5],\n",
       "       [7, 5, 8, 1, 5],\n",
       "       [1, 3, 5, 7, 8]], dtype=int32)"
      ]
     },
     "execution_count": 53,
     "metadata": {},
     "output_type": "execute_result"
    }
   ],
   "source": [
    "d[maskk]"
   ]
  },
  {
   "cell_type": "code",
   "execution_count": 54,
   "id": "fd5e0afa-79c1-46ee-ad40-ac5e4b030b30",
   "metadata": {},
   "outputs": [],
   "source": [
    "masskk=[[True,False],[False,True]]"
   ]
  },
  {
   "cell_type": "code",
   "execution_count": 55,
   "id": "2bf00dfd-eda9-4473-9e94-1a877c627db5",
   "metadata": {},
   "outputs": [],
   "source": [
    "d=[masskk]"
   ]
  },
  {
   "cell_type": "code",
   "execution_count": 56,
   "id": "2c2cc96c-ddce-489d-aee7-dd4267201c94",
   "metadata": {},
   "outputs": [
    {
     "data": {
      "text/plain": [
       "[[[True, False], [False, True]]]"
      ]
     },
     "execution_count": 56,
     "metadata": {},
     "output_type": "execute_result"
    }
   ],
   "source": [
    "d\n"
   ]
  },
  {
   "cell_type": "code",
   "execution_count": 60,
   "id": "e9b598d8-458a-43ba-8298-2e6ce9ae8149",
   "metadata": {},
   "outputs": [],
   "source": [
    "d = np.random.randint(1,10,(2,2))"
   ]
  },
  {
   "cell_type": "code",
   "execution_count": 61,
   "id": "a3801a49-e48a-40fb-85d4-8e27faea4291",
   "metadata": {},
   "outputs": [
    {
     "data": {
      "text/plain": [
       "array([[1, 6],\n",
       "       [7, 4]], dtype=int32)"
      ]
     },
     "execution_count": 61,
     "metadata": {},
     "output_type": "execute_result"
    }
   ],
   "source": [
    "d"
   ]
  },
  {
   "cell_type": "code",
   "execution_count": 62,
   "id": "45aa7c96-d7b4-4b11-982f-8060152c69d1",
   "metadata": {},
   "outputs": [
    {
     "data": {
      "text/plain": [
       "array([1, 4], dtype=int32)"
      ]
     },
     "execution_count": 62,
     "metadata": {},
     "output_type": "execute_result"
    }
   ],
   "source": [
    "d[masskk]"
   ]
  },
  {
   "cell_type": "code",
   "execution_count": 63,
   "id": "a2e24c77-8624-4ee8-b7ee-5180cf313efe",
   "metadata": {},
   "outputs": [],
   "source": [
    "# if we want to mask we need to match the rows dimension"
   ]
  },
  {
   "cell_type": "markdown",
   "id": "f13e09b4-1bee-418c-b715-bcc5eb3974a1",
   "metadata": {},
   "source": [
    "### build in methods for numpy"
   ]
  },
  {
   "cell_type": "code",
   "execution_count": 64,
   "id": "1be2986c-ba25-4ddf-a178-d3da2efe48ab",
   "metadata": {},
   "outputs": [],
   "source": [
    "# Array Method"
   ]
  },
  {
   "cell_type": "code",
   "execution_count": null,
   "id": "22fc93ef-f20e-411b-8671-7249f82ba014",
   "metadata": {},
   "outputs": [],
   "source": [
    "#properties "
   ]
  },
  {
   "cell_type": "code",
   "execution_count": 73,
   "id": "27662259-dd95-4f26-a53a-fb19c10f65b1",
   "metadata": {},
   "outputs": [],
   "source": [
    "e = np.random.randint(10,50, size =(5,2,3) , dtype=\"int64\")"
   ]
  },
  {
   "cell_type": "code",
   "execution_count": 74,
   "id": "50231a3e-1642-48b5-a56c-e2bab2ec8cdc",
   "metadata": {},
   "outputs": [
    {
     "data": {
      "text/plain": [
       "array([[[48, 17, 32],\n",
       "        [18, 21, 14]],\n",
       "\n",
       "       [[45, 16, 15],\n",
       "        [22, 29, 19]],\n",
       "\n",
       "       [[17, 35, 21],\n",
       "        [15, 30, 19]],\n",
       "\n",
       "       [[48, 28, 21],\n",
       "        [48, 26, 43]],\n",
       "\n",
       "       [[28, 40, 23],\n",
       "        [41, 20, 47]]])"
      ]
     },
     "execution_count": 74,
     "metadata": {},
     "output_type": "execute_result"
    }
   ],
   "source": [
    "e"
   ]
  },
  {
   "cell_type": "code",
   "execution_count": 76,
   "id": "88c17219-cadc-4fa5-bf50-bae5de576aad",
   "metadata": {},
   "outputs": [
    {
     "data": {
      "text/plain": [
       "1920"
      ]
     },
     "execution_count": 76,
     "metadata": {},
     "output_type": "execute_result"
    }
   ],
   "source": [
    "(e.size * 64)"
   ]
  },
  {
   "cell_type": "code",
   "execution_count": 77,
   "id": "c859b973-86f0-4e61-8ff7-b4e45f511d8b",
   "metadata": {},
   "outputs": [],
   "source": [
    "#transpose garne "
   ]
  },
  {
   "cell_type": "code",
   "execution_count": 78,
   "id": "ae060ba0-c5dd-45db-82c6-26e990008191",
   "metadata": {},
   "outputs": [
    {
     "data": {
      "text/plain": [
       "array([[[48, 45, 17, 48, 28],\n",
       "        [18, 22, 15, 48, 41]],\n",
       "\n",
       "       [[17, 16, 35, 28, 40],\n",
       "        [21, 29, 30, 26, 20]],\n",
       "\n",
       "       [[32, 15, 21, 21, 23],\n",
       "        [14, 19, 19, 43, 47]]])"
      ]
     },
     "execution_count": 78,
     "metadata": {},
     "output_type": "execute_result"
    }
   ],
   "source": [
    "e.T"
   ]
  },
  {
   "cell_type": "code",
   "execution_count": 80,
   "id": "49cca1f4-3ad4-46dc-a837-ca2e364f3187",
   "metadata": {},
   "outputs": [
    {
     "data": {
      "text/plain": [
       "array([[[48, 17, 32, 18, 21],\n",
       "        [14, 45, 16, 15, 22],\n",
       "        [29, 19, 17, 35, 21]],\n",
       "\n",
       "       [[15, 30, 19, 48, 28],\n",
       "        [21, 48, 26, 43, 28],\n",
       "        [40, 23, 41, 20, 47]]])"
      ]
     },
     "execution_count": 80,
     "metadata": {},
     "output_type": "execute_result"
    }
   ],
   "source": [
    "e.reshape(2,3,5)"
   ]
  },
  {
   "cell_type": "code",
   "execution_count": 82,
   "id": "30155f6b-16f3-4f5f-ae25-417e852a414f",
   "metadata": {},
   "outputs": [
    {
     "data": {
      "text/plain": [
       "array([[[48, 17, 32, 18, 21, 14, 45, 16, 15, 22, 29, 19, 17, 35, 21],\n",
       "        [15, 30, 19, 48, 28, 21, 48, 26, 43, 28, 40, 23, 41, 20, 47]]])"
      ]
     },
     "execution_count": 82,
     "metadata": {},
     "output_type": "execute_result"
    }
   ],
   "source": [
    "e.reshape(1,2,-1)\n"
   ]
  },
  {
   "cell_type": "code",
   "execution_count": 83,
   "id": "947f566d-00ab-4dda-996a-edfcd35e0c9f",
   "metadata": {},
   "outputs": [],
   "source": [
    "# array. ravel"
   ]
  },
  {
   "cell_type": "code",
   "execution_count": 86,
   "id": "6546aa7d-f62f-4bb4-b619-e9fd7c8ca872",
   "metadata": {},
   "outputs": [
    {
     "data": {
      "text/plain": [
       "array([48, 17, 32, 18, 21, 14, 45, 16, 15, 22, 29, 19, 17, 35, 21, 15, 30,\n",
       "       19, 48, 28, 21, 48, 26, 43, 28, 40, 23, 41, 20, 47])"
      ]
     },
     "execution_count": 86,
     "metadata": {},
     "output_type": "execute_result"
    }
   ],
   "source": [
    "e.ravel()"
   ]
  },
  {
   "cell_type": "code",
   "execution_count": 87,
   "id": "8974495c-8387-4a2a-b9e5-27c76cb2951c",
   "metadata": {},
   "outputs": [
    {
     "data": {
      "text/plain": [
       "array([48, 17, 32, 18, 21, 14, 45, 16, 15, 22, 29, 19, 17, 35, 21, 15, 30,\n",
       "       19, 48, 28, 21, 48, 26, 43, 28, 40, 23, 41, 20, 47])"
      ]
     },
     "execution_count": 87,
     "metadata": {},
     "output_type": "execute_result"
    }
   ],
   "source": [
    "e.flatten()"
   ]
  },
  {
   "cell_type": "code",
   "execution_count": 88,
   "id": "25cd3fc0-e86d-44eb-b2ed-8af4e942fef9",
   "metadata": {
    "scrolled": true
   },
   "outputs": [
    {
     "data": {
      "text/plain": [
       "array([[[48, 17, 32, 18, 21],\n",
       "        [14, 45, 16, 15, 22],\n",
       "        [29, 19, 17, 35, 21]],\n",
       "\n",
       "       [[15, 30, 19, 48, 28],\n",
       "        [21, 48, 26, 43, 28],\n",
       "        [40, 23, 41, 20, 47]]])"
      ]
     },
     "execution_count": 88,
     "metadata": {},
     "output_type": "execute_result"
    }
   ],
   "source": [
    "e.reshape(2,3,5)"
   ]
  },
  {
   "cell_type": "code",
   "execution_count": 94,
   "id": "4b45eab8-6c33-444c-80c3-53e05cdf5046",
   "metadata": {},
   "outputs": [
    {
     "data": {
      "text/plain": [
       "array([[[3, 6],\n",
       "        [3, 8]],\n",
       "\n",
       "       [[3, 7],\n",
       "        [3, 7]]], dtype=int32)"
      ]
     },
     "execution_count": 94,
     "metadata": {},
     "output_type": "execute_result"
    }
   ],
   "source": [
    "f = np.random.randint(1,10,(2,2,2))\n",
    "f"
   ]
  },
  {
   "cell_type": "code",
   "execution_count": 90,
   "id": "1ca7535a-d891-4089-9ba2-42072d7260d0",
   "metadata": {},
   "outputs": [
    {
     "ename": "ValueError",
     "evalue": "all the input array dimensions except for the concatenation axis must match exactly, but along dimension 2, the array at index 0 has size 3 and the array at index 1 has size 2",
     "output_type": "error",
     "traceback": [
      "\u001b[31m---------------------------------------------------------------------------\u001b[39m",
      "\u001b[31mValueError\u001b[39m                                Traceback (most recent call last)",
      "\u001b[36mCell\u001b[39m\u001b[36m \u001b[39m\u001b[32mIn[90]\u001b[39m\u001b[32m, line 1\u001b[39m\n\u001b[32m----> \u001b[39m\u001b[32m1\u001b[39m \u001b[43mnp\u001b[49m\u001b[43m.\u001b[49m\u001b[43mconcatenate\u001b[49m\u001b[43m(\u001b[49m\u001b[43m[\u001b[49m\u001b[43me\u001b[49m\u001b[43m,\u001b[49m\u001b[43mf\u001b[49m\u001b[43m]\u001b[49m\u001b[43m)\u001b[49m\n",
      "\u001b[31mValueError\u001b[39m: all the input array dimensions except for the concatenation axis must match exactly, but along dimension 2, the array at index 0 has size 3 and the array at index 1 has size 2"
     ]
    }
   ],
   "source": [
    "np.concatenate([e,f])"
   ]
  },
  {
   "cell_type": "code",
   "execution_count": 95,
   "id": "47201b02-8638-4062-903c-d300389e9d67",
   "metadata": {},
   "outputs": [
    {
     "data": {
      "text/plain": [
       "array([[[4, 4],\n",
       "        [1, 6]],\n",
       "\n",
       "       [[4, 9],\n",
       "        [6, 6]]], dtype=int32)"
      ]
     },
     "execution_count": 95,
     "metadata": {},
     "output_type": "execute_result"
    }
   ],
   "source": [
    "g = np.random.randint(1,10,(2,2,2))\n",
    "g"
   ]
  },
  {
   "cell_type": "code",
   "execution_count": 96,
   "id": "4d1ac9c4-f994-4cd0-a4b4-7a99a902294a",
   "metadata": {},
   "outputs": [
    {
     "data": {
      "text/plain": [
       "array([[[3, 6],\n",
       "        [3, 8]],\n",
       "\n",
       "       [[3, 7],\n",
       "        [3, 7]],\n",
       "\n",
       "       [[4, 4],\n",
       "        [1, 6]],\n",
       "\n",
       "       [[4, 9],\n",
       "        [6, 6]]], dtype=int32)"
      ]
     },
     "execution_count": 96,
     "metadata": {},
     "output_type": "execute_result"
    }
   ],
   "source": [
    "np.concatenate([f,g])"
   ]
  },
  {
   "cell_type": "code",
   "execution_count": 132,
   "id": "bfc97989-5964-4e30-9b0f-c0b9a40991ac",
   "metadata": {},
   "outputs": [
    {
     "data": {
      "text/plain": [
       "array([[8, 3, 8, 5],\n",
       "       [2, 3, 5, 9],\n",
       "       [8, 8, 1, 3]], dtype=int32)"
      ]
     },
     "execution_count": 132,
     "metadata": {},
     "output_type": "execute_result"
    }
   ],
   "source": [
    "h = np.random.randint(1,10,(3,4))\n",
    "h\n"
   ]
  },
  {
   "cell_type": "code",
   "execution_count": 133,
   "id": "3b8899f9-42f1-4783-b0b3-10e02cb673c5",
   "metadata": {},
   "outputs": [],
   "source": [
    "P = np.random.randint(1,10,(1,4))"
   ]
  },
  {
   "cell_type": "code",
   "execution_count": 134,
   "id": "dc830b28-b3a3-427f-a423-78421474688c",
   "metadata": {},
   "outputs": [
    {
     "data": {
      "text/plain": [
       "array([[1, 7, 9, 6]], dtype=int32)"
      ]
     },
     "execution_count": 134,
     "metadata": {},
     "output_type": "execute_result"
    }
   ],
   "source": [
    "P"
   ]
  },
  {
   "cell_type": "code",
   "execution_count": 136,
   "id": "fcc13b9a-f8ce-4296-9b15-ab9c105251e5",
   "metadata": {},
   "outputs": [],
   "source": [
    "q = np.concatenate([h,P],axis=0)"
   ]
  },
  {
   "cell_type": "code",
   "execution_count": 137,
   "id": "cba3d132-cf2f-488e-91e8-76eb882fbf9b",
   "metadata": {},
   "outputs": [
    {
     "data": {
      "text/plain": [
       "array([[8, 3, 8, 5],\n",
       "       [2, 3, 5, 9],\n",
       "       [8, 8, 1, 3],\n",
       "       [1, 7, 9, 6]], dtype=int32)"
      ]
     },
     "execution_count": 137,
     "metadata": {},
     "output_type": "execute_result"
    }
   ],
   "source": [
    "q"
   ]
  },
  {
   "cell_type": "markdown",
   "id": "404e8181-f95d-49ef-b681-11b4e9a05e5c",
   "metadata": {},
   "source": [
    "### axis 1 ma row milnu paro ani axis 0 ma column milnu paro "
   ]
  },
  {
   "cell_type": "code",
   "execution_count": 142,
   "id": "29e034fd-5ee1-4a82-9ca8-4863fd57ed42",
   "metadata": {},
   "outputs": [
    {
     "data": {
      "text/plain": [
       "[array([[8, 3],\n",
       "        [2, 3],\n",
       "        [8, 8],\n",
       "        [1, 7]], dtype=int32),\n",
       " array([[8, 5],\n",
       "        [5, 9],\n",
       "        [1, 3],\n",
       "        [9, 6]], dtype=int32)]"
      ]
     },
     "execution_count": 142,
     "metadata": {},
     "output_type": "execute_result"
    }
   ],
   "source": [
    "np.split(q,2,axis=1) # colum ma split vayo "
   ]
  },
  {
   "cell_type": "code",
   "execution_count": 143,
   "id": "784ad551-572e-4a0f-972c-3c4f913b415d",
   "metadata": {},
   "outputs": [
    {
     "data": {
      "text/plain": [
       "[array([[8, 3, 8, 5],\n",
       "        [2, 3, 5, 9]], dtype=int32),\n",
       " array([[8, 8, 1, 3],\n",
       "        [1, 7, 9, 6]], dtype=int32)]"
      ]
     },
     "execution_count": 143,
     "metadata": {},
     "output_type": "execute_result"
    }
   ],
   "source": [
    "np.split(q,2,axis = 0)"
   ]
  },
  {
   "cell_type": "code",
   "execution_count": null,
   "id": "c60e180c-0d5a-444b-bb9c-d91248614162",
   "metadata": {},
   "outputs": [],
   "source": [
    " # spliting ma axis 1 rakhyo vane colum wise split hunxa \n",
    "# ani 0 rakhyo vane row "
   ]
  }
 ],
 "metadata": {
  "kernelspec": {
   "display_name": "Python 3 (ipykernel)",
   "language": "python",
   "name": "python3"
  },
  "language_info": {
   "codemirror_mode": {
    "name": "ipython",
    "version": 3
   },
   "file_extension": ".py",
   "mimetype": "text/x-python",
   "name": "python",
   "nbconvert_exporter": "python",
   "pygments_lexer": "ipython3",
   "version": "3.13.3"
  }
 },
 "nbformat": 4,
 "nbformat_minor": 5
}
